{
 "cells": [
  {
   "cell_type": "markdown",
   "metadata": {},
   "source": [
    "# Table of Contents: \n",
    "* Investigate data \n",
    "* Ask questions\n",
    "* Wrangle data : \n",
    "* assess and clean data (Incorrect data types, missing data, and inaccurate data are all problems that we'd need to fix before analyzing this data)\n",
    "* Explore data\n",
    "* Conclude\n",
    "* Communication\n"
   ]
  },
  {
   "cell_type": "markdown",
   "metadata": {},
   "source": [
    "# Investigate Data: \n",
    "Fuel Economy Data This information is provided by the U.S. Environmental Protection Agency, Office of Mobile Sources, National Vehicle and Fuel Emissions Laboratory\n",
    "\n",
    "### Using Documentation to Understand Data\n",
    "1. What is the unit of measure for engine displacement? \n",
    "   Liters\n",
    "2. Match the meaning for each feature.\n",
    "   * Stnd : Vehicle emissions standard code \n",
    "   * Cyl : Number of Cylinders in the engine \n",
    "   * Trans : Transmission Type \n",
    "   * Drv : Drive Axle Type "
   ]
  },
  {
   "cell_type": "markdown",
   "metadata": {},
   "source": [
    "# Ask questions :\n",
    "* 1. Are more models using alternative sources of fuel? By how much?\n",
    "* 2. How much have vehicle classes improved in fuel economy?\n",
    "* 3. What are the characteristics of SmartWay vehicles?\n",
    "* 4. What features are associated with better fuel economy?\n",
    "* 5. For all of the models that were produced in 2008 that are still being produced in 2018, how much has the mpg improved and which vehicle improved the most?"
   ]
  },
  {
   "cell_type": "markdown",
   "metadata": {},
   "source": [
    "# Assess data : "
   ]
  },
  {
   "cell_type": "code",
   "execution_count": 1,
   "metadata": {},
   "outputs": [],
   "source": [
    "# import the data\n",
    "import pandas as pd\n",
    "df_08 = pd.read_csv(\"C:/Users/satta/Downloads/Data Analytics with Fuel Economy Data/Fuel_Economy_Data/all_alpha_08.csv\")\n",
    "df_18 = pd.read_csv(\"C:/Users/satta/Downloads/Data Analytics with Fuel Economy Data/Fuel_Economy_Data/all_alpha_18.csv\")\n",
    "\n"
   ]
  },
  {
   "cell_type": "code",
   "execution_count": 2,
   "metadata": {},
   "outputs": [
    {
     "data": {
      "text/plain": [
       "((2404, 18), (1611, 18))"
      ]
     },
     "execution_count": 2,
     "metadata": {},
     "output_type": "execute_result"
    }
   ],
   "source": [
    "# check data structure of 2008 and 2018 datasets\n",
    "df_08.shape , df_18.shape"
   ]
  },
  {
   "cell_type": "code",
   "execution_count": 3,
   "metadata": {},
   "outputs": [
    {
     "data": {
      "text/html": [
       "<div>\n",
       "<style scoped>\n",
       "    .dataframe tbody tr th:only-of-type {\n",
       "        vertical-align: middle;\n",
       "    }\n",
       "\n",
       "    .dataframe tbody tr th {\n",
       "        vertical-align: top;\n",
       "    }\n",
       "\n",
       "    .dataframe thead th {\n",
       "        text-align: right;\n",
       "    }\n",
       "</style>\n",
       "<table border=\"1\" class=\"dataframe\">\n",
       "  <thead>\n",
       "    <tr style=\"text-align: right;\">\n",
       "      <th></th>\n",
       "      <th>Model</th>\n",
       "      <th>Displ</th>\n",
       "      <th>Cyl</th>\n",
       "      <th>Trans</th>\n",
       "      <th>Drive</th>\n",
       "      <th>Fuel</th>\n",
       "      <th>Sales Area</th>\n",
       "      <th>Stnd</th>\n",
       "      <th>Underhood ID</th>\n",
       "      <th>Veh Class</th>\n",
       "      <th>Air Pollution Score</th>\n",
       "      <th>FE Calc Appr</th>\n",
       "      <th>City MPG</th>\n",
       "      <th>Hwy MPG</th>\n",
       "      <th>Cmb MPG</th>\n",
       "      <th>Unadj Cmb MPG</th>\n",
       "      <th>Greenhouse Gas Score</th>\n",
       "      <th>SmartWay</th>\n",
       "    </tr>\n",
       "  </thead>\n",
       "  <tbody>\n",
       "    <tr>\n",
       "      <th>0</th>\n",
       "      <td>ACURA MDX</td>\n",
       "      <td>3.7</td>\n",
       "      <td>(6 cyl)</td>\n",
       "      <td>Auto-S5</td>\n",
       "      <td>4WD</td>\n",
       "      <td>Gasoline</td>\n",
       "      <td>CA</td>\n",
       "      <td>U2</td>\n",
       "      <td>8HNXT03.7PKR</td>\n",
       "      <td>SUV</td>\n",
       "      <td>7</td>\n",
       "      <td>Drv</td>\n",
       "      <td>15</td>\n",
       "      <td>20</td>\n",
       "      <td>17</td>\n",
       "      <td>22.0527</td>\n",
       "      <td>4</td>\n",
       "      <td>no</td>\n",
       "    </tr>\n",
       "    <tr>\n",
       "      <th>1</th>\n",
       "      <td>ACURA MDX</td>\n",
       "      <td>3.7</td>\n",
       "      <td>(6 cyl)</td>\n",
       "      <td>Auto-S5</td>\n",
       "      <td>4WD</td>\n",
       "      <td>Gasoline</td>\n",
       "      <td>FA</td>\n",
       "      <td>B5</td>\n",
       "      <td>8HNXT03.7PKR</td>\n",
       "      <td>SUV</td>\n",
       "      <td>6</td>\n",
       "      <td>Drv</td>\n",
       "      <td>15</td>\n",
       "      <td>20</td>\n",
       "      <td>17</td>\n",
       "      <td>22.0527</td>\n",
       "      <td>4</td>\n",
       "      <td>no</td>\n",
       "    </tr>\n",
       "    <tr>\n",
       "      <th>2</th>\n",
       "      <td>ACURA RDX</td>\n",
       "      <td>2.3</td>\n",
       "      <td>(4 cyl)</td>\n",
       "      <td>Auto-S5</td>\n",
       "      <td>4WD</td>\n",
       "      <td>Gasoline</td>\n",
       "      <td>CA</td>\n",
       "      <td>U2</td>\n",
       "      <td>8HNXT02.3DKR</td>\n",
       "      <td>SUV</td>\n",
       "      <td>7</td>\n",
       "      <td>Drv</td>\n",
       "      <td>17</td>\n",
       "      <td>22</td>\n",
       "      <td>19</td>\n",
       "      <td>24.1745</td>\n",
       "      <td>5</td>\n",
       "      <td>no</td>\n",
       "    </tr>\n",
       "    <tr>\n",
       "      <th>3</th>\n",
       "      <td>ACURA RDX</td>\n",
       "      <td>2.3</td>\n",
       "      <td>(4 cyl)</td>\n",
       "      <td>Auto-S5</td>\n",
       "      <td>4WD</td>\n",
       "      <td>Gasoline</td>\n",
       "      <td>FA</td>\n",
       "      <td>B5</td>\n",
       "      <td>8HNXT02.3DKR</td>\n",
       "      <td>SUV</td>\n",
       "      <td>6</td>\n",
       "      <td>Drv</td>\n",
       "      <td>17</td>\n",
       "      <td>22</td>\n",
       "      <td>19</td>\n",
       "      <td>24.1745</td>\n",
       "      <td>5</td>\n",
       "      <td>no</td>\n",
       "    </tr>\n",
       "    <tr>\n",
       "      <th>4</th>\n",
       "      <td>ACURA RL</td>\n",
       "      <td>3.5</td>\n",
       "      <td>(6 cyl)</td>\n",
       "      <td>Auto-S5</td>\n",
       "      <td>4WD</td>\n",
       "      <td>Gasoline</td>\n",
       "      <td>CA</td>\n",
       "      <td>U2</td>\n",
       "      <td>8HNXV03.5HKR</td>\n",
       "      <td>midsize car</td>\n",
       "      <td>7</td>\n",
       "      <td>Drv</td>\n",
       "      <td>16</td>\n",
       "      <td>24</td>\n",
       "      <td>19</td>\n",
       "      <td>24.5629</td>\n",
       "      <td>5</td>\n",
       "      <td>no</td>\n",
       "    </tr>\n",
       "  </tbody>\n",
       "</table>\n",
       "</div>"
      ],
      "text/plain": [
       "       Model  Displ      Cyl    Trans Drive      Fuel Sales Area Stnd  \\\n",
       "0  ACURA MDX    3.7  (6 cyl)  Auto-S5   4WD  Gasoline         CA   U2   \n",
       "1  ACURA MDX    3.7  (6 cyl)  Auto-S5   4WD  Gasoline         FA   B5   \n",
       "2  ACURA RDX    2.3  (4 cyl)  Auto-S5   4WD  Gasoline         CA   U2   \n",
       "3  ACURA RDX    2.3  (4 cyl)  Auto-S5   4WD  Gasoline         FA   B5   \n",
       "4   ACURA RL    3.5  (6 cyl)  Auto-S5   4WD  Gasoline         CA   U2   \n",
       "\n",
       "   Underhood ID    Veh Class Air Pollution Score FE Calc Appr City MPG  \\\n",
       "0  8HNXT03.7PKR          SUV                   7          Drv       15   \n",
       "1  8HNXT03.7PKR          SUV                   6          Drv       15   \n",
       "2  8HNXT02.3DKR          SUV                   7          Drv       17   \n",
       "3  8HNXT02.3DKR          SUV                   6          Drv       17   \n",
       "4  8HNXV03.5HKR  midsize car                   7          Drv       16   \n",
       "\n",
       "  Hwy MPG Cmb MPG  Unadj Cmb MPG Greenhouse Gas Score SmartWay  \n",
       "0      20      17        22.0527                    4       no  \n",
       "1      20      17        22.0527                    4       no  \n",
       "2      22      19        24.1745                    5       no  \n",
       "3      22      19        24.1745                    5       no  \n",
       "4      24      19        24.5629                    5       no  "
      ]
     },
     "execution_count": 3,
     "metadata": {},
     "output_type": "execute_result"
    }
   ],
   "source": [
    "df_08.head()"
   ]
  },
  {
   "cell_type": "code",
   "execution_count": 4,
   "metadata": {},
   "outputs": [
    {
     "data": {
      "text/html": [
       "<div>\n",
       "<style scoped>\n",
       "    .dataframe tbody tr th:only-of-type {\n",
       "        vertical-align: middle;\n",
       "    }\n",
       "\n",
       "    .dataframe tbody tr th {\n",
       "        vertical-align: top;\n",
       "    }\n",
       "\n",
       "    .dataframe thead th {\n",
       "        text-align: right;\n",
       "    }\n",
       "</style>\n",
       "<table border=\"1\" class=\"dataframe\">\n",
       "  <thead>\n",
       "    <tr style=\"text-align: right;\">\n",
       "      <th></th>\n",
       "      <th>Model</th>\n",
       "      <th>Displ</th>\n",
       "      <th>Cyl</th>\n",
       "      <th>Trans</th>\n",
       "      <th>Drive</th>\n",
       "      <th>Fuel</th>\n",
       "      <th>Cert Region</th>\n",
       "      <th>Stnd</th>\n",
       "      <th>Stnd Description</th>\n",
       "      <th>Underhood ID</th>\n",
       "      <th>Veh Class</th>\n",
       "      <th>Air Pollution Score</th>\n",
       "      <th>City MPG</th>\n",
       "      <th>Hwy MPG</th>\n",
       "      <th>Cmb MPG</th>\n",
       "      <th>Greenhouse Gas Score</th>\n",
       "      <th>SmartWay</th>\n",
       "      <th>Comb CO2</th>\n",
       "    </tr>\n",
       "  </thead>\n",
       "  <tbody>\n",
       "    <tr>\n",
       "      <th>0</th>\n",
       "      <td>ACURA RDX</td>\n",
       "      <td>3.5</td>\n",
       "      <td>6.0</td>\n",
       "      <td>SemiAuto-6</td>\n",
       "      <td>2WD</td>\n",
       "      <td>Gasoline</td>\n",
       "      <td>FA</td>\n",
       "      <td>T3B125</td>\n",
       "      <td>Federal Tier 3 Bin 125</td>\n",
       "      <td>JHNXT03.5GV3</td>\n",
       "      <td>small SUV</td>\n",
       "      <td>3</td>\n",
       "      <td>20</td>\n",
       "      <td>28</td>\n",
       "      <td>23</td>\n",
       "      <td>5</td>\n",
       "      <td>No</td>\n",
       "      <td>386</td>\n",
       "    </tr>\n",
       "    <tr>\n",
       "      <th>1</th>\n",
       "      <td>ACURA RDX</td>\n",
       "      <td>3.5</td>\n",
       "      <td>6.0</td>\n",
       "      <td>SemiAuto-6</td>\n",
       "      <td>2WD</td>\n",
       "      <td>Gasoline</td>\n",
       "      <td>CA</td>\n",
       "      <td>U2</td>\n",
       "      <td>California LEV-II ULEV</td>\n",
       "      <td>JHNXT03.5GV3</td>\n",
       "      <td>small SUV</td>\n",
       "      <td>3</td>\n",
       "      <td>20</td>\n",
       "      <td>28</td>\n",
       "      <td>23</td>\n",
       "      <td>5</td>\n",
       "      <td>No</td>\n",
       "      <td>386</td>\n",
       "    </tr>\n",
       "    <tr>\n",
       "      <th>2</th>\n",
       "      <td>ACURA RDX</td>\n",
       "      <td>3.5</td>\n",
       "      <td>6.0</td>\n",
       "      <td>SemiAuto-6</td>\n",
       "      <td>4WD</td>\n",
       "      <td>Gasoline</td>\n",
       "      <td>FA</td>\n",
       "      <td>T3B125</td>\n",
       "      <td>Federal Tier 3 Bin 125</td>\n",
       "      <td>JHNXT03.5GV3</td>\n",
       "      <td>small SUV</td>\n",
       "      <td>3</td>\n",
       "      <td>19</td>\n",
       "      <td>27</td>\n",
       "      <td>22</td>\n",
       "      <td>4</td>\n",
       "      <td>No</td>\n",
       "      <td>402</td>\n",
       "    </tr>\n",
       "    <tr>\n",
       "      <th>3</th>\n",
       "      <td>ACURA RDX</td>\n",
       "      <td>3.5</td>\n",
       "      <td>6.0</td>\n",
       "      <td>SemiAuto-6</td>\n",
       "      <td>4WD</td>\n",
       "      <td>Gasoline</td>\n",
       "      <td>CA</td>\n",
       "      <td>U2</td>\n",
       "      <td>California LEV-II ULEV</td>\n",
       "      <td>JHNXT03.5GV3</td>\n",
       "      <td>small SUV</td>\n",
       "      <td>3</td>\n",
       "      <td>19</td>\n",
       "      <td>27</td>\n",
       "      <td>22</td>\n",
       "      <td>4</td>\n",
       "      <td>No</td>\n",
       "      <td>402</td>\n",
       "    </tr>\n",
       "    <tr>\n",
       "      <th>4</th>\n",
       "      <td>ACURA TLX</td>\n",
       "      <td>2.4</td>\n",
       "      <td>4.0</td>\n",
       "      <td>AMS-8</td>\n",
       "      <td>2WD</td>\n",
       "      <td>Gasoline</td>\n",
       "      <td>CA</td>\n",
       "      <td>L3ULEV125</td>\n",
       "      <td>California LEV-III ULEV125</td>\n",
       "      <td>JHNXV02.4WH3</td>\n",
       "      <td>small car</td>\n",
       "      <td>3</td>\n",
       "      <td>23</td>\n",
       "      <td>33</td>\n",
       "      <td>27</td>\n",
       "      <td>6</td>\n",
       "      <td>No</td>\n",
       "      <td>330</td>\n",
       "    </tr>\n",
       "  </tbody>\n",
       "</table>\n",
       "</div>"
      ],
      "text/plain": [
       "       Model  Displ  Cyl       Trans Drive      Fuel Cert Region       Stnd  \\\n",
       "0  ACURA RDX    3.5  6.0  SemiAuto-6   2WD  Gasoline          FA     T3B125   \n",
       "1  ACURA RDX    3.5  6.0  SemiAuto-6   2WD  Gasoline          CA         U2   \n",
       "2  ACURA RDX    3.5  6.0  SemiAuto-6   4WD  Gasoline          FA     T3B125   \n",
       "3  ACURA RDX    3.5  6.0  SemiAuto-6   4WD  Gasoline          CA         U2   \n",
       "4  ACURA TLX    2.4  4.0       AMS-8   2WD  Gasoline          CA  L3ULEV125   \n",
       "\n",
       "             Stnd Description  Underhood ID  Veh Class  Air Pollution Score  \\\n",
       "0      Federal Tier 3 Bin 125  JHNXT03.5GV3  small SUV                    3   \n",
       "1      California LEV-II ULEV  JHNXT03.5GV3  small SUV                    3   \n",
       "2      Federal Tier 3 Bin 125  JHNXT03.5GV3  small SUV                    3   \n",
       "3      California LEV-II ULEV  JHNXT03.5GV3  small SUV                    3   \n",
       "4  California LEV-III ULEV125  JHNXV02.4WH3  small car                    3   \n",
       "\n",
       "  City MPG Hwy MPG Cmb MPG  Greenhouse Gas Score SmartWay Comb CO2  \n",
       "0       20      28      23                     5       No      386  \n",
       "1       20      28      23                     5       No      386  \n",
       "2       19      27      22                     4       No      402  \n",
       "3       19      27      22                     4       No      402  \n",
       "4       23      33      27                     6       No      330  "
      ]
     },
     "execution_count": 4,
     "metadata": {},
     "output_type": "execute_result"
    }
   ],
   "source": [
    "df_18.head()"
   ]
  },
  {
   "cell_type": "markdown",
   "metadata": {},
   "source": [
    "The codes below are used to know the dataset better on duplications , null values,  data structure , data types and unique values"
   ]
  },
  {
   "cell_type": "code",
   "execution_count": 5,
   "metadata": {},
   "outputs": [
    {
     "data": {
      "text/plain": [
       "25"
      ]
     },
     "execution_count": 5,
     "metadata": {},
     "output_type": "execute_result"
    }
   ],
   "source": [
    "# duplicates in 2008 dataset \n",
    "df_08.duplicated().sum()"
   ]
  },
  {
   "cell_type": "code",
   "execution_count": 6,
   "metadata": {},
   "outputs": [
    {
     "data": {
      "text/plain": [
       "Model                     0\n",
       "Displ                     0\n",
       "Cyl                     199\n",
       "Trans                   199\n",
       "Drive                    93\n",
       "Fuel                      0\n",
       "Sales Area                0\n",
       "Stnd                      0\n",
       "Underhood ID              0\n",
       "Veh Class                 0\n",
       "Air Pollution Score       0\n",
       "FE Calc Appr            199\n",
       "City MPG                199\n",
       "Hwy MPG                 199\n",
       "Cmb MPG                 199\n",
       "Unadj Cmb MPG           199\n",
       "Greenhouse Gas Score    199\n",
       "SmartWay                  0\n",
       "dtype: int64"
      ]
     },
     "execution_count": 6,
     "metadata": {},
     "output_type": "execute_result"
    }
   ],
   "source": [
    "# null value of 2008 dataset \n",
    "df_08.isnull().sum()"
   ]
  },
  {
   "cell_type": "code",
   "execution_count": 7,
   "metadata": {},
   "outputs": [
    {
     "data": {
      "text/plain": [
       "Model                    object\n",
       "Displ                   float64\n",
       "Cyl                      object\n",
       "Trans                    object\n",
       "Drive                    object\n",
       "Fuel                     object\n",
       "Sales Area               object\n",
       "Stnd                     object\n",
       "Underhood ID             object\n",
       "Veh Class                object\n",
       "Air Pollution Score      object\n",
       "FE Calc Appr             object\n",
       "City MPG                 object\n",
       "Hwy MPG                  object\n",
       "Cmb MPG                  object\n",
       "Unadj Cmb MPG           float64\n",
       "Greenhouse Gas Score     object\n",
       "SmartWay                 object\n",
       "dtype: object"
      ]
     },
     "execution_count": 7,
     "metadata": {},
     "output_type": "execute_result"
    }
   ],
   "source": [
    "# data type of 2008 dataset \n",
    "df_08.dtypes"
   ]
  },
  {
   "cell_type": "code",
   "execution_count": 8,
   "metadata": {},
   "outputs": [
    {
     "data": {
      "text/plain": [
       "Model                   436\n",
       "Displ                    47\n",
       "Cyl                       8\n",
       "Trans                    14\n",
       "Drive                     2\n",
       "Fuel                      5\n",
       "Sales Area                3\n",
       "Stnd                     12\n",
       "Underhood ID            343\n",
       "Veh Class                 9\n",
       "Air Pollution Score      13\n",
       "FE Calc Appr              2\n",
       "City MPG                 39\n",
       "Hwy MPG                  43\n",
       "Cmb MPG                  38\n",
       "Unadj Cmb MPG           721\n",
       "Greenhouse Gas Score     20\n",
       "SmartWay                  2\n",
       "dtype: int64"
      ]
     },
     "execution_count": 8,
     "metadata": {},
     "output_type": "execute_result"
    }
   ],
   "source": [
    "# check unique numbers for each column in 2008 dataset\n",
    "df_08.nunique()"
   ]
  },
  {
   "cell_type": "code",
   "execution_count": 9,
   "metadata": {},
   "outputs": [
    {
     "data": {
      "text/plain": [
       "0"
      ]
     },
     "execution_count": 9,
     "metadata": {},
     "output_type": "execute_result"
    }
   ],
   "source": [
    "# check duplicates in 2018 dataset\n",
    "df_18.duplicated().sum()"
   ]
  },
  {
   "cell_type": "code",
   "execution_count": 10,
   "metadata": {},
   "outputs": [
    {
     "data": {
      "text/plain": [
       "Model                   0\n",
       "Displ                   2\n",
       "Cyl                     2\n",
       "Trans                   0\n",
       "Drive                   0\n",
       "Fuel                    0\n",
       "Cert Region             0\n",
       "Stnd                    0\n",
       "Stnd Description        0\n",
       "Underhood ID            0\n",
       "Veh Class               0\n",
       "Air Pollution Score     0\n",
       "City MPG                0\n",
       "Hwy MPG                 0\n",
       "Cmb MPG                 0\n",
       "Greenhouse Gas Score    0\n",
       "SmartWay                0\n",
       "Comb CO2                0\n",
       "dtype: int64"
      ]
     },
     "execution_count": 10,
     "metadata": {},
     "output_type": "execute_result"
    }
   ],
   "source": [
    "# check null values in 2018 dataset\n",
    "df_18.isnull().sum()"
   ]
  },
  {
   "cell_type": "code",
   "execution_count": 11,
   "metadata": {},
   "outputs": [
    {
     "data": {
      "text/plain": [
       "Model                    object\n",
       "Displ                   float64\n",
       "Cyl                     float64\n",
       "Trans                    object\n",
       "Drive                    object\n",
       "Fuel                     object\n",
       "Cert Region              object\n",
       "Stnd                     object\n",
       "Stnd Description         object\n",
       "Underhood ID             object\n",
       "Veh Class                object\n",
       "Air Pollution Score       int64\n",
       "City MPG                 object\n",
       "Hwy MPG                  object\n",
       "Cmb MPG                  object\n",
       "Greenhouse Gas Score      int64\n",
       "SmartWay                 object\n",
       "Comb CO2                 object\n",
       "dtype: object"
      ]
     },
     "execution_count": 11,
     "metadata": {},
     "output_type": "execute_result"
    }
   ],
   "source": [
    "# data types of 2018 dataset\n",
    "df_18.dtypes"
   ]
  },
  {
   "cell_type": "code",
   "execution_count": 12,
   "metadata": {},
   "outputs": [
    {
     "data": {
      "text/plain": [
       "Model                   367\n",
       "Displ                    36\n",
       "Cyl                       7\n",
       "Trans                    26\n",
       "Drive                     2\n",
       "Fuel                      5\n",
       "Cert Region               2\n",
       "Stnd                     19\n",
       "Stnd Description         19\n",
       "Underhood ID            230\n",
       "Veh Class                 9\n",
       "Air Pollution Score       6\n",
       "City MPG                 58\n",
       "Hwy MPG                  62\n",
       "Cmb MPG                  57\n",
       "Greenhouse Gas Score     10\n",
       "SmartWay                  3\n",
       "Comb CO2                299\n",
       "dtype: int64"
      ]
     },
     "execution_count": 12,
     "metadata": {},
     "output_type": "execute_result"
    }
   ],
   "source": [
    "# check unique numbers for each column in 2018 dataset\n",
    "df_18.nunique()"
   ]
  },
  {
   "cell_type": "markdown",
   "metadata": {},
   "source": [
    "# Clean Data"
   ]
  },
  {
   "cell_type": "code",
   "execution_count": 13,
   "metadata": {},
   "outputs": [
    {
     "data": {
      "text/plain": [
       "Index(['Model', 'Displ', 'Cyl', 'Trans', 'Drive', 'Fuel', 'Sales Area', 'Stnd',\n",
       "       'Underhood ID', 'Veh Class', 'Air Pollution Score', 'FE Calc Appr',\n",
       "       'City MPG', 'Hwy MPG', 'Cmb MPG', 'Unadj Cmb MPG',\n",
       "       'Greenhouse Gas Score', 'SmartWay'],\n",
       "      dtype='object')"
      ]
     },
     "execution_count": 13,
     "metadata": {},
     "output_type": "execute_result"
    }
   ],
   "source": [
    "# view 2008 dataset\n",
    "df_08.head(1).columns"
   ]
  },
  {
   "cell_type": "code",
   "execution_count": 14,
   "metadata": {},
   "outputs": [
    {
     "data": {
      "text/plain": [
       "Index(['Model', 'Displ', 'Cyl', 'Trans', 'Drive', 'Fuel', 'Cert Region',\n",
       "       'Stnd', 'Stnd Description', 'Underhood ID', 'Veh Class',\n",
       "       'Air Pollution Score', 'City MPG', 'Hwy MPG', 'Cmb MPG',\n",
       "       'Greenhouse Gas Score', 'SmartWay', 'Comb CO2'],\n",
       "      dtype='object')"
      ]
     },
     "execution_count": 14,
     "metadata": {},
     "output_type": "execute_result"
    }
   ],
   "source": [
    "df_18.head(1).columns"
   ]
  },
  {
   "cell_type": "markdown",
   "metadata": {},
   "source": [
    "### 1. Drop Extraneous Columns\n",
    "Drop features that aren't consistent (not present in both datasets) or aren't relevant to our questions. Use pandas' drop function."
   ]
  },
  {
   "cell_type": "code",
   "execution_count": 15,
   "metadata": {},
   "outputs": [
    {
     "data": {
      "text/html": [
       "<div>\n",
       "<style scoped>\n",
       "    .dataframe tbody tr th:only-of-type {\n",
       "        vertical-align: middle;\n",
       "    }\n",
       "\n",
       "    .dataframe tbody tr th {\n",
       "        vertical-align: top;\n",
       "    }\n",
       "\n",
       "    .dataframe thead th {\n",
       "        text-align: right;\n",
       "    }\n",
       "</style>\n",
       "<table border=\"1\" class=\"dataframe\">\n",
       "  <thead>\n",
       "    <tr style=\"text-align: right;\">\n",
       "      <th></th>\n",
       "      <th>Model</th>\n",
       "      <th>Displ</th>\n",
       "      <th>Cyl</th>\n",
       "      <th>Trans</th>\n",
       "      <th>Drive</th>\n",
       "      <th>Fuel</th>\n",
       "      <th>Sales Area</th>\n",
       "      <th>Veh Class</th>\n",
       "      <th>Air Pollution Score</th>\n",
       "      <th>City MPG</th>\n",
       "      <th>Hwy MPG</th>\n",
       "      <th>Cmb MPG</th>\n",
       "      <th>Greenhouse Gas Score</th>\n",
       "      <th>SmartWay</th>\n",
       "    </tr>\n",
       "  </thead>\n",
       "  <tbody>\n",
       "    <tr>\n",
       "      <th>0</th>\n",
       "      <td>ACURA MDX</td>\n",
       "      <td>3.7</td>\n",
       "      <td>(6 cyl)</td>\n",
       "      <td>Auto-S5</td>\n",
       "      <td>4WD</td>\n",
       "      <td>Gasoline</td>\n",
       "      <td>CA</td>\n",
       "      <td>SUV</td>\n",
       "      <td>7</td>\n",
       "      <td>15</td>\n",
       "      <td>20</td>\n",
       "      <td>17</td>\n",
       "      <td>4</td>\n",
       "      <td>no</td>\n",
       "    </tr>\n",
       "  </tbody>\n",
       "</table>\n",
       "</div>"
      ],
      "text/plain": [
       "       Model  Displ      Cyl    Trans Drive      Fuel Sales Area Veh Class  \\\n",
       "0  ACURA MDX    3.7  (6 cyl)  Auto-S5   4WD  Gasoline         CA       SUV   \n",
       "\n",
       "  Air Pollution Score City MPG Hwy MPG Cmb MPG Greenhouse Gas Score SmartWay  \n",
       "0                   7       15      20      17                    4       no  "
      ]
     },
     "execution_count": 15,
     "metadata": {},
     "output_type": "execute_result"
    }
   ],
   "source": [
    "# drop columns from 2008 dataset\n",
    "df_08.drop(['Stnd', 'Underhood ID', 'FE Calc Appr', 'Unadj Cmb MPG'], axis=1, inplace=True)\n",
    "\n",
    "# confirm changes\n",
    "df_08.head(1)"
   ]
  },
  {
   "cell_type": "code",
   "execution_count": 16,
   "metadata": {},
   "outputs": [
    {
     "data": {
      "text/html": [
       "<div>\n",
       "<style scoped>\n",
       "    .dataframe tbody tr th:only-of-type {\n",
       "        vertical-align: middle;\n",
       "    }\n",
       "\n",
       "    .dataframe tbody tr th {\n",
       "        vertical-align: top;\n",
       "    }\n",
       "\n",
       "    .dataframe thead th {\n",
       "        text-align: right;\n",
       "    }\n",
       "</style>\n",
       "<table border=\"1\" class=\"dataframe\">\n",
       "  <thead>\n",
       "    <tr style=\"text-align: right;\">\n",
       "      <th></th>\n",
       "      <th>Model</th>\n",
       "      <th>Displ</th>\n",
       "      <th>Cyl</th>\n",
       "      <th>Trans</th>\n",
       "      <th>Drive</th>\n",
       "      <th>Fuel</th>\n",
       "      <th>Sales Area</th>\n",
       "      <th>Veh Class</th>\n",
       "      <th>Air Pollution Score</th>\n",
       "      <th>City MPG</th>\n",
       "      <th>Hwy MPG</th>\n",
       "      <th>Cmb MPG</th>\n",
       "      <th>Greenhouse Gas Score</th>\n",
       "      <th>SmartWay</th>\n",
       "    </tr>\n",
       "  </thead>\n",
       "  <tbody>\n",
       "    <tr>\n",
       "      <th>0</th>\n",
       "      <td>ACURA MDX</td>\n",
       "      <td>3.7</td>\n",
       "      <td>(6 cyl)</td>\n",
       "      <td>Auto-S5</td>\n",
       "      <td>4WD</td>\n",
       "      <td>Gasoline</td>\n",
       "      <td>CA</td>\n",
       "      <td>SUV</td>\n",
       "      <td>7</td>\n",
       "      <td>15</td>\n",
       "      <td>20</td>\n",
       "      <td>17</td>\n",
       "      <td>4</td>\n",
       "      <td>no</td>\n",
       "    </tr>\n",
       "  </tbody>\n",
       "</table>\n",
       "</div>"
      ],
      "text/plain": [
       "       Model  Displ      Cyl    Trans Drive      Fuel Sales Area Veh Class  \\\n",
       "0  ACURA MDX    3.7  (6 cyl)  Auto-S5   4WD  Gasoline         CA       SUV   \n",
       "\n",
       "  Air Pollution Score City MPG Hwy MPG Cmb MPG Greenhouse Gas Score SmartWay  \n",
       "0                   7       15      20      17                    4       no  "
      ]
     },
     "execution_count": 16,
     "metadata": {},
     "output_type": "execute_result"
    }
   ],
   "source": [
    "# drop columns from 2018 dataset\n",
    "df_18.drop(['Stnd', 'Stnd Description', 'Underhood ID', 'Comb CO2'], axis=1, inplace=True)\n",
    "\n",
    "# confirm changes\n",
    "df_08.head(1)"
   ]
  },
  {
   "cell_type": "markdown",
   "metadata": {},
   "source": [
    "### 2. Rename Columns\n",
    "Change the \"Sales Area\" column label in the 2008 dataset to \"Cert Region\" for consistency.\n",
    "Rename all column labels to replace spaces with underscores and convert everything to lowercase. (Underscores can be much easier to work with in Python than spaces. For example, having spaces wouldn't allow you to use df.column_name instead of df['column_name'] to select columns or use query(). Being consistent with lowercase and underscores also helps make column names easy to remember.)"
   ]
  },
  {
   "cell_type": "code",
   "execution_count": 17,
   "metadata": {},
   "outputs": [
    {
     "data": {
      "text/html": [
       "<div>\n",
       "<style scoped>\n",
       "    .dataframe tbody tr th:only-of-type {\n",
       "        vertical-align: middle;\n",
       "    }\n",
       "\n",
       "    .dataframe tbody tr th {\n",
       "        vertical-align: top;\n",
       "    }\n",
       "\n",
       "    .dataframe thead th {\n",
       "        text-align: right;\n",
       "    }\n",
       "</style>\n",
       "<table border=\"1\" class=\"dataframe\">\n",
       "  <thead>\n",
       "    <tr style=\"text-align: right;\">\n",
       "      <th></th>\n",
       "      <th>Model</th>\n",
       "      <th>Displ</th>\n",
       "      <th>Cyl</th>\n",
       "      <th>Trans</th>\n",
       "      <th>Drive</th>\n",
       "      <th>Fuel</th>\n",
       "      <th>Cert Region</th>\n",
       "      <th>Veh Class</th>\n",
       "      <th>Air Pollution Score</th>\n",
       "      <th>City MPG</th>\n",
       "      <th>Hwy MPG</th>\n",
       "      <th>Cmb MPG</th>\n",
       "      <th>Greenhouse Gas Score</th>\n",
       "      <th>SmartWay</th>\n",
       "    </tr>\n",
       "  </thead>\n",
       "  <tbody>\n",
       "    <tr>\n",
       "      <th>0</th>\n",
       "      <td>ACURA MDX</td>\n",
       "      <td>3.7</td>\n",
       "      <td>(6 cyl)</td>\n",
       "      <td>Auto-S5</td>\n",
       "      <td>4WD</td>\n",
       "      <td>Gasoline</td>\n",
       "      <td>CA</td>\n",
       "      <td>SUV</td>\n",
       "      <td>7</td>\n",
       "      <td>15</td>\n",
       "      <td>20</td>\n",
       "      <td>17</td>\n",
       "      <td>4</td>\n",
       "      <td>no</td>\n",
       "    </tr>\n",
       "  </tbody>\n",
       "</table>\n",
       "</div>"
      ],
      "text/plain": [
       "       Model  Displ      Cyl    Trans Drive      Fuel Cert Region Veh Class  \\\n",
       "0  ACURA MDX    3.7  (6 cyl)  Auto-S5   4WD  Gasoline          CA       SUV   \n",
       "\n",
       "  Air Pollution Score City MPG Hwy MPG Cmb MPG Greenhouse Gas Score SmartWay  \n",
       "0                   7       15      20      17                    4       no  "
      ]
     },
     "execution_count": 17,
     "metadata": {},
     "output_type": "execute_result"
    }
   ],
   "source": [
    "# rename Sales Area to Cert Region\n",
    "df_08.rename(columns = {\"Sales Area\":\"Cert Region\"}, inplace=True)\n",
    "# confirm changes\n",
    "df_08.head(1)"
   ]
  },
  {
   "cell_type": "code",
   "execution_count": 18,
   "metadata": {},
   "outputs": [
    {
     "data": {
      "text/html": [
       "<div>\n",
       "<style scoped>\n",
       "    .dataframe tbody tr th:only-of-type {\n",
       "        vertical-align: middle;\n",
       "    }\n",
       "\n",
       "    .dataframe tbody tr th {\n",
       "        vertical-align: top;\n",
       "    }\n",
       "\n",
       "    .dataframe thead th {\n",
       "        text-align: right;\n",
       "    }\n",
       "</style>\n",
       "<table border=\"1\" class=\"dataframe\">\n",
       "  <thead>\n",
       "    <tr style=\"text-align: right;\">\n",
       "      <th></th>\n",
       "      <th>model</th>\n",
       "      <th>displ</th>\n",
       "      <th>cyl</th>\n",
       "      <th>trans</th>\n",
       "      <th>drive</th>\n",
       "      <th>fuel</th>\n",
       "      <th>cert_region</th>\n",
       "      <th>veh_class</th>\n",
       "      <th>air_pollution_score</th>\n",
       "      <th>city_mpg</th>\n",
       "      <th>hwy_mpg</th>\n",
       "      <th>cmb_mpg</th>\n",
       "      <th>greenhouse_gas_score</th>\n",
       "      <th>smartway</th>\n",
       "    </tr>\n",
       "  </thead>\n",
       "  <tbody>\n",
       "    <tr>\n",
       "      <th>0</th>\n",
       "      <td>ACURA MDX</td>\n",
       "      <td>3.7</td>\n",
       "      <td>(6 cyl)</td>\n",
       "      <td>Auto-S5</td>\n",
       "      <td>4WD</td>\n",
       "      <td>Gasoline</td>\n",
       "      <td>CA</td>\n",
       "      <td>SUV</td>\n",
       "      <td>7</td>\n",
       "      <td>15</td>\n",
       "      <td>20</td>\n",
       "      <td>17</td>\n",
       "      <td>4</td>\n",
       "      <td>no</td>\n",
       "    </tr>\n",
       "  </tbody>\n",
       "</table>\n",
       "</div>"
      ],
      "text/plain": [
       "       model  displ      cyl    trans drive      fuel cert_region veh_class  \\\n",
       "0  ACURA MDX    3.7  (6 cyl)  Auto-S5   4WD  Gasoline          CA       SUV   \n",
       "\n",
       "  air_pollution_score city_mpg hwy_mpg cmb_mpg greenhouse_gas_score smartway  \n",
       "0                   7       15      20      17                    4       no  "
      ]
     },
     "execution_count": 18,
     "metadata": {},
     "output_type": "execute_result"
    }
   ],
   "source": [
    "# replace spaces with underscores and lowercase labels for 2008 dataset\n",
    "df_08.rename(columns=lambda x: x.strip().lower().replace(\" \",\"_\"), inplace=True)\n",
    "\n",
    "# confirm changes\n",
    "df_08.head(1)"
   ]
  },
  {
   "cell_type": "code",
   "execution_count": 19,
   "metadata": {},
   "outputs": [
    {
     "data": {
      "text/html": [
       "<div>\n",
       "<style scoped>\n",
       "    .dataframe tbody tr th:only-of-type {\n",
       "        vertical-align: middle;\n",
       "    }\n",
       "\n",
       "    .dataframe tbody tr th {\n",
       "        vertical-align: top;\n",
       "    }\n",
       "\n",
       "    .dataframe thead th {\n",
       "        text-align: right;\n",
       "    }\n",
       "</style>\n",
       "<table border=\"1\" class=\"dataframe\">\n",
       "  <thead>\n",
       "    <tr style=\"text-align: right;\">\n",
       "      <th></th>\n",
       "      <th>model</th>\n",
       "      <th>displ</th>\n",
       "      <th>cyl</th>\n",
       "      <th>trans</th>\n",
       "      <th>drive</th>\n",
       "      <th>fuel</th>\n",
       "      <th>cert_region</th>\n",
       "      <th>veh_class</th>\n",
       "      <th>air_pollution_score</th>\n",
       "      <th>city_mpg</th>\n",
       "      <th>hwy_mpg</th>\n",
       "      <th>cmb_mpg</th>\n",
       "      <th>greenhouse_gas_score</th>\n",
       "      <th>smartway</th>\n",
       "    </tr>\n",
       "  </thead>\n",
       "  <tbody>\n",
       "    <tr>\n",
       "      <th>0</th>\n",
       "      <td>ACURA RDX</td>\n",
       "      <td>3.5</td>\n",
       "      <td>6.0</td>\n",
       "      <td>SemiAuto-6</td>\n",
       "      <td>2WD</td>\n",
       "      <td>Gasoline</td>\n",
       "      <td>FA</td>\n",
       "      <td>small SUV</td>\n",
       "      <td>3</td>\n",
       "      <td>20</td>\n",
       "      <td>28</td>\n",
       "      <td>23</td>\n",
       "      <td>5</td>\n",
       "      <td>No</td>\n",
       "    </tr>\n",
       "  </tbody>\n",
       "</table>\n",
       "</div>"
      ],
      "text/plain": [
       "       model  displ  cyl       trans drive      fuel cert_region  veh_class  \\\n",
       "0  ACURA RDX    3.5  6.0  SemiAuto-6   2WD  Gasoline          FA  small SUV   \n",
       "\n",
       "   air_pollution_score city_mpg hwy_mpg cmb_mpg  greenhouse_gas_score smartway  \n",
       "0                    3       20      28      23                     5       No  "
      ]
     },
     "execution_count": 19,
     "metadata": {},
     "output_type": "execute_result"
    }
   ],
   "source": [
    "# replace spaces with underscores and lowercase labels for 2018 dataset\n",
    "df_18.rename(columns = lambda x: x.strip().lower().replace(\" \",\"_\"),inplace=True)\n",
    "\n",
    "# confirm changes\n",
    "df_18.head(1)"
   ]
  },
  {
   "cell_type": "code",
   "execution_count": 20,
   "metadata": {},
   "outputs": [
    {
     "data": {
      "text/plain": [
       "array([ True,  True,  True,  True,  True,  True,  True,  True,  True,\n",
       "        True,  True,  True,  True,  True])"
      ]
     },
     "execution_count": 20,
     "metadata": {},
     "output_type": "execute_result"
    }
   ],
   "source": [
    "# confirm column labels for 2008 and 2018 datasets are identical\n",
    "df_08.columns == df_18.columns"
   ]
  },
  {
   "cell_type": "code",
   "execution_count": 21,
   "metadata": {},
   "outputs": [
    {
     "data": {
      "text/plain": [
       "True"
      ]
     },
     "execution_count": 21,
     "metadata": {},
     "output_type": "execute_result"
    }
   ],
   "source": [
    "# make sure they're all identical like this\n",
    "(df_08.columns == df_18.columns).all()"
   ]
  },
  {
   "cell_type": "code",
   "execution_count": 22,
   "metadata": {},
   "outputs": [],
   "source": [
    "# save new datasets for next section\n",
    "df_08.to_csv('data_08_v1.csv', index=False)\n",
    "df_18.to_csv('data_18_v1.csv', index=False)"
   ]
  },
  {
   "cell_type": "markdown",
   "metadata": {},
   "source": [
    "### 3. Filter\n",
    "For consistency, only compare cars certified by California standards. Filter both datasets using query to select only rows where cert_region is CA. Then, drop the cert_region columns, since it will no longer provide any useful information (we'll know every value is 'CA')."
   ]
  },
  {
   "cell_type": "code",
   "execution_count": 23,
   "metadata": {},
   "outputs": [],
   "source": [
    "# filter datasets for rows following California standards\n",
    "df_08 = df_08.query('cert_region==\"CA\"')\n",
    "df_18 = df_18.query('cert_region==\"CA\"') "
   ]
  },
  {
   "cell_type": "code",
   "execution_count": 24,
   "metadata": {},
   "outputs": [
    {
     "data": {
      "text/plain": [
       "(array(['CA'], dtype=object), array(['CA'], dtype=object))"
      ]
     },
     "execution_count": 24,
     "metadata": {},
     "output_type": "execute_result"
    }
   ],
   "source": [
    "# confirm only certification region is California\n",
    "df_08['cert_region'].unique() , df_18['cert_region'].unique()"
   ]
  },
  {
   "cell_type": "code",
   "execution_count": 25,
   "metadata": {},
   "outputs": [
    {
     "data": {
      "text/html": [
       "<div>\n",
       "<style scoped>\n",
       "    .dataframe tbody tr th:only-of-type {\n",
       "        vertical-align: middle;\n",
       "    }\n",
       "\n",
       "    .dataframe tbody tr th {\n",
       "        vertical-align: top;\n",
       "    }\n",
       "\n",
       "    .dataframe thead th {\n",
       "        text-align: right;\n",
       "    }\n",
       "</style>\n",
       "<table border=\"1\" class=\"dataframe\">\n",
       "  <thead>\n",
       "    <tr style=\"text-align: right;\">\n",
       "      <th></th>\n",
       "      <th>model</th>\n",
       "      <th>displ</th>\n",
       "      <th>cyl</th>\n",
       "      <th>trans</th>\n",
       "      <th>drive</th>\n",
       "      <th>fuel</th>\n",
       "      <th>veh_class</th>\n",
       "      <th>air_pollution_score</th>\n",
       "      <th>city_mpg</th>\n",
       "      <th>hwy_mpg</th>\n",
       "      <th>cmb_mpg</th>\n",
       "      <th>greenhouse_gas_score</th>\n",
       "      <th>smartway</th>\n",
       "    </tr>\n",
       "  </thead>\n",
       "  <tbody>\n",
       "    <tr>\n",
       "      <th>0</th>\n",
       "      <td>ACURA MDX</td>\n",
       "      <td>3.7</td>\n",
       "      <td>(6 cyl)</td>\n",
       "      <td>Auto-S5</td>\n",
       "      <td>4WD</td>\n",
       "      <td>Gasoline</td>\n",
       "      <td>SUV</td>\n",
       "      <td>7</td>\n",
       "      <td>15</td>\n",
       "      <td>20</td>\n",
       "      <td>17</td>\n",
       "      <td>4</td>\n",
       "      <td>no</td>\n",
       "    </tr>\n",
       "    <tr>\n",
       "      <th>2</th>\n",
       "      <td>ACURA RDX</td>\n",
       "      <td>2.3</td>\n",
       "      <td>(4 cyl)</td>\n",
       "      <td>Auto-S5</td>\n",
       "      <td>4WD</td>\n",
       "      <td>Gasoline</td>\n",
       "      <td>SUV</td>\n",
       "      <td>7</td>\n",
       "      <td>17</td>\n",
       "      <td>22</td>\n",
       "      <td>19</td>\n",
       "      <td>5</td>\n",
       "      <td>no</td>\n",
       "    </tr>\n",
       "    <tr>\n",
       "      <th>4</th>\n",
       "      <td>ACURA RL</td>\n",
       "      <td>3.5</td>\n",
       "      <td>(6 cyl)</td>\n",
       "      <td>Auto-S5</td>\n",
       "      <td>4WD</td>\n",
       "      <td>Gasoline</td>\n",
       "      <td>midsize car</td>\n",
       "      <td>7</td>\n",
       "      <td>16</td>\n",
       "      <td>24</td>\n",
       "      <td>19</td>\n",
       "      <td>5</td>\n",
       "      <td>no</td>\n",
       "    </tr>\n",
       "    <tr>\n",
       "      <th>6</th>\n",
       "      <td>ACURA TL</td>\n",
       "      <td>3.2</td>\n",
       "      <td>(6 cyl)</td>\n",
       "      <td>Auto-S5</td>\n",
       "      <td>2WD</td>\n",
       "      <td>Gasoline</td>\n",
       "      <td>midsize car</td>\n",
       "      <td>7</td>\n",
       "      <td>18</td>\n",
       "      <td>26</td>\n",
       "      <td>21</td>\n",
       "      <td>6</td>\n",
       "      <td>yes</td>\n",
       "    </tr>\n",
       "    <tr>\n",
       "      <th>7</th>\n",
       "      <td>ACURA TL</td>\n",
       "      <td>3.5</td>\n",
       "      <td>(6 cyl)</td>\n",
       "      <td>Auto-S5</td>\n",
       "      <td>2WD</td>\n",
       "      <td>Gasoline</td>\n",
       "      <td>midsize car</td>\n",
       "      <td>7</td>\n",
       "      <td>17</td>\n",
       "      <td>26</td>\n",
       "      <td>20</td>\n",
       "      <td>6</td>\n",
       "      <td>yes</td>\n",
       "    </tr>\n",
       "  </tbody>\n",
       "</table>\n",
       "</div>"
      ],
      "text/plain": [
       "       model  displ      cyl    trans drive      fuel    veh_class  \\\n",
       "0  ACURA MDX    3.7  (6 cyl)  Auto-S5   4WD  Gasoline          SUV   \n",
       "2  ACURA RDX    2.3  (4 cyl)  Auto-S5   4WD  Gasoline          SUV   \n",
       "4   ACURA RL    3.5  (6 cyl)  Auto-S5   4WD  Gasoline  midsize car   \n",
       "6   ACURA TL    3.2  (6 cyl)  Auto-S5   2WD  Gasoline  midsize car   \n",
       "7   ACURA TL    3.5  (6 cyl)  Auto-S5   2WD  Gasoline  midsize car   \n",
       "\n",
       "  air_pollution_score city_mpg hwy_mpg cmb_mpg greenhouse_gas_score smartway  \n",
       "0                   7       15      20      17                    4       no  \n",
       "2                   7       17      22      19                    5       no  \n",
       "4                   7       16      24      19                    5       no  \n",
       "6                   7       18      26      21                    6      yes  \n",
       "7                   7       17      26      20                    6      yes  "
      ]
     },
     "execution_count": 25,
     "metadata": {},
     "output_type": "execute_result"
    }
   ],
   "source": [
    "# drop certification region columns form both datasets\n",
    "df_08.drop(['cert_region'], axis=1, inplace=True)\n",
    "df_08.head()"
   ]
  },
  {
   "cell_type": "code",
   "execution_count": 26,
   "metadata": {},
   "outputs": [
    {
     "data": {
      "text/html": [
       "<div>\n",
       "<style scoped>\n",
       "    .dataframe tbody tr th:only-of-type {\n",
       "        vertical-align: middle;\n",
       "    }\n",
       "\n",
       "    .dataframe tbody tr th {\n",
       "        vertical-align: top;\n",
       "    }\n",
       "\n",
       "    .dataframe thead th {\n",
       "        text-align: right;\n",
       "    }\n",
       "</style>\n",
       "<table border=\"1\" class=\"dataframe\">\n",
       "  <thead>\n",
       "    <tr style=\"text-align: right;\">\n",
       "      <th></th>\n",
       "      <th>model</th>\n",
       "      <th>displ</th>\n",
       "      <th>cyl</th>\n",
       "      <th>trans</th>\n",
       "      <th>drive</th>\n",
       "      <th>fuel</th>\n",
       "      <th>veh_class</th>\n",
       "      <th>air_pollution_score</th>\n",
       "      <th>city_mpg</th>\n",
       "      <th>hwy_mpg</th>\n",
       "      <th>cmb_mpg</th>\n",
       "      <th>greenhouse_gas_score</th>\n",
       "      <th>smartway</th>\n",
       "    </tr>\n",
       "  </thead>\n",
       "  <tbody>\n",
       "    <tr>\n",
       "      <th>1</th>\n",
       "      <td>ACURA RDX</td>\n",
       "      <td>3.5</td>\n",
       "      <td>6.0</td>\n",
       "      <td>SemiAuto-6</td>\n",
       "      <td>2WD</td>\n",
       "      <td>Gasoline</td>\n",
       "      <td>small SUV</td>\n",
       "      <td>3</td>\n",
       "      <td>20</td>\n",
       "      <td>28</td>\n",
       "      <td>23</td>\n",
       "      <td>5</td>\n",
       "      <td>No</td>\n",
       "    </tr>\n",
       "    <tr>\n",
       "      <th>3</th>\n",
       "      <td>ACURA RDX</td>\n",
       "      <td>3.5</td>\n",
       "      <td>6.0</td>\n",
       "      <td>SemiAuto-6</td>\n",
       "      <td>4WD</td>\n",
       "      <td>Gasoline</td>\n",
       "      <td>small SUV</td>\n",
       "      <td>3</td>\n",
       "      <td>19</td>\n",
       "      <td>27</td>\n",
       "      <td>22</td>\n",
       "      <td>4</td>\n",
       "      <td>No</td>\n",
       "    </tr>\n",
       "    <tr>\n",
       "      <th>4</th>\n",
       "      <td>ACURA TLX</td>\n",
       "      <td>2.4</td>\n",
       "      <td>4.0</td>\n",
       "      <td>AMS-8</td>\n",
       "      <td>2WD</td>\n",
       "      <td>Gasoline</td>\n",
       "      <td>small car</td>\n",
       "      <td>3</td>\n",
       "      <td>23</td>\n",
       "      <td>33</td>\n",
       "      <td>27</td>\n",
       "      <td>6</td>\n",
       "      <td>No</td>\n",
       "    </tr>\n",
       "    <tr>\n",
       "      <th>6</th>\n",
       "      <td>ACURA TLX</td>\n",
       "      <td>3.5</td>\n",
       "      <td>6.0</td>\n",
       "      <td>SemiAuto-9</td>\n",
       "      <td>2WD</td>\n",
       "      <td>Gasoline</td>\n",
       "      <td>small car</td>\n",
       "      <td>3</td>\n",
       "      <td>20</td>\n",
       "      <td>32</td>\n",
       "      <td>24</td>\n",
       "      <td>5</td>\n",
       "      <td>No</td>\n",
       "    </tr>\n",
       "    <tr>\n",
       "      <th>8</th>\n",
       "      <td>ACURA TLX</td>\n",
       "      <td>3.5</td>\n",
       "      <td>6.0</td>\n",
       "      <td>SemiAuto-9</td>\n",
       "      <td>4WD</td>\n",
       "      <td>Gasoline</td>\n",
       "      <td>small car</td>\n",
       "      <td>3</td>\n",
       "      <td>21</td>\n",
       "      <td>30</td>\n",
       "      <td>24</td>\n",
       "      <td>5</td>\n",
       "      <td>No</td>\n",
       "    </tr>\n",
       "  </tbody>\n",
       "</table>\n",
       "</div>"
      ],
      "text/plain": [
       "       model  displ  cyl       trans drive      fuel  veh_class  \\\n",
       "1  ACURA RDX    3.5  6.0  SemiAuto-6   2WD  Gasoline  small SUV   \n",
       "3  ACURA RDX    3.5  6.0  SemiAuto-6   4WD  Gasoline  small SUV   \n",
       "4  ACURA TLX    2.4  4.0       AMS-8   2WD  Gasoline  small car   \n",
       "6  ACURA TLX    3.5  6.0  SemiAuto-9   2WD  Gasoline  small car   \n",
       "8  ACURA TLX    3.5  6.0  SemiAuto-9   4WD  Gasoline  small car   \n",
       "\n",
       "   air_pollution_score city_mpg hwy_mpg cmb_mpg  greenhouse_gas_score smartway  \n",
       "1                    3       20      28      23                     5       No  \n",
       "3                    3       19      27      22                     4       No  \n",
       "4                    3       23      33      27                     6       No  \n",
       "6                    3       20      32      24                     5       No  \n",
       "8                    3       21      30      24                     5       No  "
      ]
     },
     "execution_count": 26,
     "metadata": {},
     "output_type": "execute_result"
    }
   ],
   "source": [
    "df_18.drop(['cert_region'], axis=1, inplace=True)\n",
    "df_18.head()"
   ]
  },
  {
   "cell_type": "markdown",
   "metadata": {},
   "source": [
    "### 4.Drop Nulls \n",
    "Drop any rows in both datasets that contain missing values."
   ]
  },
  {
   "cell_type": "code",
   "execution_count": 27,
   "metadata": {},
   "outputs": [],
   "source": [
    "# drop rows with any null values in both datasets\n",
    "df_08.dropna(inplace=True) # here must have inplace=True\n",
    "df_18.dropna(inplace=True)"
   ]
  },
  {
   "cell_type": "code",
   "execution_count": 28,
   "metadata": {},
   "outputs": [
    {
     "data": {
      "text/plain": [
       "(False, False)"
      ]
     },
     "execution_count": 28,
     "metadata": {},
     "output_type": "execute_result"
    }
   ],
   "source": [
    "# checks if any of columns in datasets have null values - should print False\n",
    "df_08.isnull().sum().any()  , df_18.isnull().sum().any()"
   ]
  },
  {
   "cell_type": "markdown",
   "metadata": {},
   "source": [
    "### 5. Dedupe Data"
   ]
  },
  {
   "cell_type": "code",
   "execution_count": 29,
   "metadata": {},
   "outputs": [],
   "source": [
    "df_08.drop_duplicates(inplace=True) # here must have inplace=True\n",
    "df_18.drop_duplicates(inplace=True) "
   ]
  },
  {
   "cell_type": "code",
   "execution_count": 30,
   "metadata": {},
   "outputs": [
    {
     "data": {
      "text/plain": [
       "(0, 0)"
      ]
     },
     "execution_count": 30,
     "metadata": {},
     "output_type": "execute_result"
    }
   ],
   "source": [
    "df_18.duplicated().sum()   ,   df_08.duplicated().sum()  "
   ]
  },
  {
   "cell_type": "code",
   "execution_count": 31,
   "metadata": {},
   "outputs": [],
   "source": [
    "# save progress for the next section\n",
    "df_08.to_csv('data_08_v2.csv', index=False)\n",
    "df_18.to_csv('data_18_v2.csv', index=False)"
   ]
  },
  {
   "cell_type": "markdown",
   "metadata": {},
   "source": [
    "### 6. Fixing Data Types\n",
    "* Fix cyl datatype     2008: extract int from string.      2018: convert float to int.\n",
    "* Fix air_pollution_score datatype    2008: convert string to float.     2018: convert int to float.\n",
    "* Fix city_mpg, hwy_mpg, cmb_mpg datatypes    2008 and 2018: convert string to float.\n",
    "* Fix greenhouse_gas_score datatype    2008: convert from float to int."
   ]
  },
  {
   "cell_type": "markdown",
   "metadata": {},
   "source": [
    "### 6.1 : Fixing cyl Data Type\n",
    "* 2008: extract int from string\n",
    "* 2018: convert float to int"
   ]
  },
  {
   "cell_type": "code",
   "execution_count": 32,
   "metadata": {},
   "outputs": [],
   "source": [
    "df_08 = pd.read_csv(\"C:/Users/satta/Downloads/Data Analytics with Fuel Economy Data/Fuel_Economy_Data/data_08_v2.csv\")\n",
    "df_18 = pd.read_csv(\"C:/Users/satta/Downloads/Data Analytics with Fuel Economy Data/Fuel_Economy_Data/data_18_v2.csv\")\n"
   ]
  },
  {
   "cell_type": "code",
   "execution_count": 33,
   "metadata": {},
   "outputs": [
    {
     "data": {
      "text/plain": [
       "(6 cyl)     409\n",
       "(4 cyl)     283\n",
       "(8 cyl)     199\n",
       "(5 cyl)      48\n",
       "(12 cyl)     30\n",
       "(10 cyl)     14\n",
       "(2 cyl)       2\n",
       "(16 cyl)      1\n",
       "Name: cyl, dtype: int64"
      ]
     },
     "execution_count": 33,
     "metadata": {},
     "output_type": "execute_result"
    }
   ],
   "source": [
    "# check value counts for the 2008 cyl column\n",
    "df_08['cyl'].value_counts()"
   ]
  },
  {
   "cell_type": "code",
   "execution_count": 34,
   "metadata": {},
   "outputs": [
    {
     "data": {
      "text/plain": [
       "6     409\n",
       "4     283\n",
       "8     199\n",
       "5      48\n",
       "12     30\n",
       "10     14\n",
       "2       2\n",
       "16      1\n",
       "Name: cyl, dtype: int64"
      ]
     },
     "execution_count": 34,
     "metadata": {},
     "output_type": "execute_result"
    }
   ],
   "source": [
    "# Extract int from strings in the 2008 cyl column\n",
    "import numpy as np \n",
    "df_08['cyl'] = df_08['cyl'].str.extract('(\\d+)').astype(np.int64)\n",
    "df_08['cyl'].value_counts()"
   ]
  },
  {
   "cell_type": "code",
   "execution_count": 35,
   "metadata": {},
   "outputs": [
    {
     "data": {
      "text/plain": [
       "6     409\n",
       "4     283\n",
       "8     199\n",
       "5      48\n",
       "12     30\n",
       "10     14\n",
       "2       2\n",
       "16      1\n",
       "Name: cyl, dtype: int64"
      ]
     },
     "execution_count": 35,
     "metadata": {},
     "output_type": "execute_result"
    }
   ],
   "source": [
    "# convert 2018 cyl column from float to int\n",
    "df_18['cyl'] = df_18['cyl'].astype(int)\n",
    "df_08['cyl'].value_counts()"
   ]
  },
  {
   "cell_type": "code",
   "execution_count": 36,
   "metadata": {},
   "outputs": [],
   "source": [
    "df_08.to_csv('data_08_v3.csv', index=False)\n",
    "df_18.to_csv('data_18_v3.csv', index=False)"
   ]
  },
  {
   "cell_type": "markdown",
   "metadata": {},
   "source": [
    "### 6.2 Fixing air_pollution_score Data Type\n",
    "* 2008: convert string to float\n",
    "* 2018: convert int to float"
   ]
  },
  {
   "cell_type": "code",
   "execution_count": 37,
   "metadata": {},
   "outputs": [],
   "source": [
    "# load datasets\n",
    "import pandas as pd\n",
    "df_08 = pd.read_csv('data_08_v3.csv')\n",
    "df_18 = pd.read_csv('data_18_v3.csv')"
   ]
  },
  {
   "cell_type": "code",
   "execution_count": 38,
   "metadata": {},
   "outputs": [],
   "source": [
    "# try using Pandas to_numeric or astype function to convert the\n",
    "# 2008 air_pollution_score column to float -- this won't work\n",
    "\n",
    "# df_08['air_pollution_score'] = df_08['air_pollution_score'].convert_objects(convert_numeric=True)\n",
    "# this method only limits to round to the nearest integer 6/4 ---> 6\n",
    "# df_08['air_pollution_score'].head()"
   ]
  },
  {
   "cell_type": "code",
   "execution_count": 39,
   "metadata": {},
   "outputs": [
    {
     "data": {
      "text/plain": [
       "model                   MERCEDES-BENZ C300\n",
       "displ                                  3.0\n",
       "cyl                                      6\n",
       "trans                              Auto-L7\n",
       "drive                                  2WD\n",
       "fuel                           ethanol/gas\n",
       "veh_class                        small car\n",
       "air_pollution_score                    6/4\n",
       "city_mpg                             13/18\n",
       "hwy_mpg                              19/25\n",
       "cmb_mpg                              15/21\n",
       "greenhouse_gas_score                   7/6\n",
       "smartway                                no\n",
       "Name: 582, dtype: object"
      ]
     },
     "execution_count": 39,
     "metadata": {},
     "output_type": "execute_result"
    }
   ],
   "source": [
    "df_08.iloc[582]    # note some fraction formed string would be hard to convert to float directly"
   ]
  },
  {
   "cell_type": "markdown",
   "metadata": {},
   "source": [
    "It's not just the air pollution score!\n",
    "The mpg columns and greenhouse gas scores also seem to have the same problem - maybe that's why these were all saved as strings! According to this link, which I found from the PDF documentation:\n",
    "\n",
    "\"If a vehicle can operate on more than one type of fuel, an estimate is provided for each fuel type.\"\n",
    "\n",
    "Ohh.. so all vehicles with more than one fuel type, or hybrids, like the one above (it uses ethanol AND gas) will have a string that holds two values - one for each."
   ]
  },
  {
   "cell_type": "code",
   "execution_count": 40,
   "metadata": {},
   "outputs": [
    {
     "data": {
      "text/html": [
       "<div>\n",
       "<style scoped>\n",
       "    .dataframe tbody tr th:only-of-type {\n",
       "        vertical-align: middle;\n",
       "    }\n",
       "\n",
       "    .dataframe tbody tr th {\n",
       "        vertical-align: top;\n",
       "    }\n",
       "\n",
       "    .dataframe thead th {\n",
       "        text-align: right;\n",
       "    }\n",
       "</style>\n",
       "<table border=\"1\" class=\"dataframe\">\n",
       "  <thead>\n",
       "    <tr style=\"text-align: right;\">\n",
       "      <th></th>\n",
       "      <th>model</th>\n",
       "      <th>displ</th>\n",
       "      <th>cyl</th>\n",
       "      <th>trans</th>\n",
       "      <th>drive</th>\n",
       "      <th>fuel</th>\n",
       "      <th>veh_class</th>\n",
       "      <th>air_pollution_score</th>\n",
       "      <th>city_mpg</th>\n",
       "      <th>hwy_mpg</th>\n",
       "      <th>cmb_mpg</th>\n",
       "      <th>greenhouse_gas_score</th>\n",
       "      <th>smartway</th>\n",
       "    </tr>\n",
       "  </thead>\n",
       "  <tbody>\n",
       "    <tr>\n",
       "      <th>582</th>\n",
       "      <td>MERCEDES-BENZ C300</td>\n",
       "      <td>3.0</td>\n",
       "      <td>6</td>\n",
       "      <td>Auto-L7</td>\n",
       "      <td>2WD</td>\n",
       "      <td>ethanol/gas</td>\n",
       "      <td>small car</td>\n",
       "      <td>6/4</td>\n",
       "      <td>13/18</td>\n",
       "      <td>19/25</td>\n",
       "      <td>15/21</td>\n",
       "      <td>7/6</td>\n",
       "      <td>no</td>\n",
       "    </tr>\n",
       "  </tbody>\n",
       "</table>\n",
       "</div>"
      ],
      "text/plain": [
       "                  model  displ  cyl    trans drive         fuel  veh_class  \\\n",
       "582  MERCEDES-BENZ C300    3.0    6  Auto-L7   2WD  ethanol/gas  small car   \n",
       "\n",
       "    air_pollution_score city_mpg hwy_mpg cmb_mpg greenhouse_gas_score smartway  \n",
       "582                 6/4    13/18   19/25   15/21                  7/6       no  "
      ]
     },
     "execution_count": 40,
     "metadata": {},
     "output_type": "execute_result"
    }
   ],
   "source": [
    "# First, let's get all the hybrids in 2008\n",
    "hb_08 = df_08[df_08['fuel'].str.contains('/')]\n",
    "hb_08"
   ]
  },
  {
   "cell_type": "code",
   "execution_count": 41,
   "metadata": {},
   "outputs": [
    {
     "data": {
      "text/html": [
       "<div>\n",
       "<style scoped>\n",
       "    .dataframe tbody tr th:only-of-type {\n",
       "        vertical-align: middle;\n",
       "    }\n",
       "\n",
       "    .dataframe tbody tr th {\n",
       "        vertical-align: top;\n",
       "    }\n",
       "\n",
       "    .dataframe thead th {\n",
       "        text-align: right;\n",
       "    }\n",
       "</style>\n",
       "<table border=\"1\" class=\"dataframe\">\n",
       "  <thead>\n",
       "    <tr style=\"text-align: right;\">\n",
       "      <th></th>\n",
       "      <th>model</th>\n",
       "      <th>displ</th>\n",
       "      <th>cyl</th>\n",
       "      <th>trans</th>\n",
       "      <th>drive</th>\n",
       "      <th>fuel</th>\n",
       "      <th>veh_class</th>\n",
       "      <th>air_pollution_score</th>\n",
       "      <th>city_mpg</th>\n",
       "      <th>hwy_mpg</th>\n",
       "      <th>cmb_mpg</th>\n",
       "      <th>greenhouse_gas_score</th>\n",
       "      <th>smartway</th>\n",
       "    </tr>\n",
       "  </thead>\n",
       "  <tbody>\n",
       "    <tr>\n",
       "      <th>52</th>\n",
       "      <td>BMW 330e</td>\n",
       "      <td>2.0</td>\n",
       "      <td>4</td>\n",
       "      <td>SemiAuto-8</td>\n",
       "      <td>2WD</td>\n",
       "      <td>Gasoline/Electricity</td>\n",
       "      <td>small car</td>\n",
       "      <td>3</td>\n",
       "      <td>28/66</td>\n",
       "      <td>34/78</td>\n",
       "      <td>30/71</td>\n",
       "      <td>10</td>\n",
       "      <td>Yes</td>\n",
       "    </tr>\n",
       "    <tr>\n",
       "      <th>78</th>\n",
       "      <td>BMW 530e</td>\n",
       "      <td>2.0</td>\n",
       "      <td>4</td>\n",
       "      <td>SemiAuto-8</td>\n",
       "      <td>2WD</td>\n",
       "      <td>Gasoline/Electricity</td>\n",
       "      <td>small car</td>\n",
       "      <td>7</td>\n",
       "      <td>27/70</td>\n",
       "      <td>31/75</td>\n",
       "      <td>29/72</td>\n",
       "      <td>10</td>\n",
       "      <td>Elite</td>\n",
       "    </tr>\n",
       "    <tr>\n",
       "      <th>79</th>\n",
       "      <td>BMW 530e</td>\n",
       "      <td>2.0</td>\n",
       "      <td>4</td>\n",
       "      <td>SemiAuto-8</td>\n",
       "      <td>4WD</td>\n",
       "      <td>Gasoline/Electricity</td>\n",
       "      <td>small car</td>\n",
       "      <td>7</td>\n",
       "      <td>27/66</td>\n",
       "      <td>31/68</td>\n",
       "      <td>28/67</td>\n",
       "      <td>10</td>\n",
       "      <td>Elite</td>\n",
       "    </tr>\n",
       "    <tr>\n",
       "      <th>92</th>\n",
       "      <td>BMW 740e</td>\n",
       "      <td>2.0</td>\n",
       "      <td>4</td>\n",
       "      <td>SemiAuto-8</td>\n",
       "      <td>4WD</td>\n",
       "      <td>Gasoline/Electricity</td>\n",
       "      <td>large car</td>\n",
       "      <td>3</td>\n",
       "      <td>25/62</td>\n",
       "      <td>29/68</td>\n",
       "      <td>27/64</td>\n",
       "      <td>9</td>\n",
       "      <td>Yes</td>\n",
       "    </tr>\n",
       "    <tr>\n",
       "      <th>189</th>\n",
       "      <td>CHEVROLET Impala</td>\n",
       "      <td>3.6</td>\n",
       "      <td>6</td>\n",
       "      <td>SemiAuto-6</td>\n",
       "      <td>2WD</td>\n",
       "      <td>Ethanol/Gas</td>\n",
       "      <td>large car</td>\n",
       "      <td>5</td>\n",
       "      <td>14/18</td>\n",
       "      <td>20/28</td>\n",
       "      <td>16/22</td>\n",
       "      <td>4</td>\n",
       "      <td>No</td>\n",
       "    </tr>\n",
       "    <tr>\n",
       "      <th>195</th>\n",
       "      <td>CHEVROLET Silverado 15</td>\n",
       "      <td>4.3</td>\n",
       "      <td>6</td>\n",
       "      <td>Auto-6</td>\n",
       "      <td>2WD</td>\n",
       "      <td>Ethanol/Gas</td>\n",
       "      <td>pickup</td>\n",
       "      <td>5</td>\n",
       "      <td>12/18</td>\n",
       "      <td>16/24</td>\n",
       "      <td>14/20</td>\n",
       "      <td>4</td>\n",
       "      <td>No</td>\n",
       "    </tr>\n",
       "    <tr>\n",
       "      <th>196</th>\n",
       "      <td>CHEVROLET Silverado 15</td>\n",
       "      <td>4.3</td>\n",
       "      <td>6</td>\n",
       "      <td>Auto-6</td>\n",
       "      <td>4WD</td>\n",
       "      <td>Ethanol/Gas</td>\n",
       "      <td>pickup</td>\n",
       "      <td>5</td>\n",
       "      <td>12/17</td>\n",
       "      <td>15/22</td>\n",
       "      <td>13/19</td>\n",
       "      <td>3</td>\n",
       "      <td>No</td>\n",
       "    </tr>\n",
       "    <tr>\n",
       "      <th>197</th>\n",
       "      <td>CHEVROLET Silverado 15</td>\n",
       "      <td>5.3</td>\n",
       "      <td>8</td>\n",
       "      <td>Auto-6</td>\n",
       "      <td>2WD</td>\n",
       "      <td>Ethanol/Gas</td>\n",
       "      <td>pickup</td>\n",
       "      <td>3</td>\n",
       "      <td>12/16</td>\n",
       "      <td>17/23</td>\n",
       "      <td>14/19</td>\n",
       "      <td>3</td>\n",
       "      <td>No</td>\n",
       "    </tr>\n",
       "    <tr>\n",
       "      <th>212</th>\n",
       "      <td>CHEVROLET Suburban 1500</td>\n",
       "      <td>5.3</td>\n",
       "      <td>8</td>\n",
       "      <td>Auto-6</td>\n",
       "      <td>2WD</td>\n",
       "      <td>Ethanol/Gas</td>\n",
       "      <td>standard SUV</td>\n",
       "      <td>3</td>\n",
       "      <td>12/16</td>\n",
       "      <td>17/23</td>\n",
       "      <td>14/19</td>\n",
       "      <td>3</td>\n",
       "      <td>No</td>\n",
       "    </tr>\n",
       "    <tr>\n",
       "      <th>214</th>\n",
       "      <td>CHEVROLET Suburban 1500</td>\n",
       "      <td>5.3</td>\n",
       "      <td>8</td>\n",
       "      <td>Auto-6</td>\n",
       "      <td>4WD</td>\n",
       "      <td>Ethanol/Gas</td>\n",
       "      <td>standard SUV</td>\n",
       "      <td>3</td>\n",
       "      <td>11/16</td>\n",
       "      <td>15/22</td>\n",
       "      <td>12/18</td>\n",
       "      <td>3</td>\n",
       "      <td>No</td>\n",
       "    </tr>\n",
       "    <tr>\n",
       "      <th>216</th>\n",
       "      <td>CHEVROLET Tahoe 1500</td>\n",
       "      <td>5.3</td>\n",
       "      <td>8</td>\n",
       "      <td>Auto-6</td>\n",
       "      <td>2WD</td>\n",
       "      <td>Ethanol/Gas</td>\n",
       "      <td>standard SUV</td>\n",
       "      <td>3</td>\n",
       "      <td>12/16</td>\n",
       "      <td>17/23</td>\n",
       "      <td>14/19</td>\n",
       "      <td>3</td>\n",
       "      <td>No</td>\n",
       "    </tr>\n",
       "    <tr>\n",
       "      <th>218</th>\n",
       "      <td>CHEVROLET Tahoe 1500</td>\n",
       "      <td>5.3</td>\n",
       "      <td>8</td>\n",
       "      <td>Auto-6</td>\n",
       "      <td>4WD</td>\n",
       "      <td>Ethanol/Gas</td>\n",
       "      <td>standard SUV</td>\n",
       "      <td>3</td>\n",
       "      <td>11/16</td>\n",
       "      <td>16/22</td>\n",
       "      <td>13/18</td>\n",
       "      <td>3</td>\n",
       "      <td>No</td>\n",
       "    </tr>\n",
       "    <tr>\n",
       "      <th>225</th>\n",
       "      <td>CHEVROLET Volt</td>\n",
       "      <td>1.5</td>\n",
       "      <td>4</td>\n",
       "      <td>CVT</td>\n",
       "      <td>2WD</td>\n",
       "      <td>Gasoline/Electricity</td>\n",
       "      <td>small car</td>\n",
       "      <td>3</td>\n",
       "      <td>43/113</td>\n",
       "      <td>42/99</td>\n",
       "      <td>42/106</td>\n",
       "      <td>10</td>\n",
       "      <td>Yes</td>\n",
       "    </tr>\n",
       "    <tr>\n",
       "      <th>226</th>\n",
       "      <td>CHEVROLET Volt</td>\n",
       "      <td>1.5</td>\n",
       "      <td>4</td>\n",
       "      <td>CVT</td>\n",
       "      <td>2WD</td>\n",
       "      <td>Gasoline/Electricity</td>\n",
       "      <td>small car</td>\n",
       "      <td>7</td>\n",
       "      <td>43/113</td>\n",
       "      <td>42/99</td>\n",
       "      <td>42/106</td>\n",
       "      <td>10</td>\n",
       "      <td>Elite</td>\n",
       "    </tr>\n",
       "    <tr>\n",
       "      <th>227</th>\n",
       "      <td>CHRYSLER 300</td>\n",
       "      <td>3.6</td>\n",
       "      <td>6</td>\n",
       "      <td>Auto-8</td>\n",
       "      <td>2WD</td>\n",
       "      <td>Ethanol/Gas</td>\n",
       "      <td>large car</td>\n",
       "      <td>3</td>\n",
       "      <td>14/19</td>\n",
       "      <td>22/30</td>\n",
       "      <td>17/23</td>\n",
       "      <td>5</td>\n",
       "      <td>No</td>\n",
       "    </tr>\n",
       "    <tr>\n",
       "      <th>229</th>\n",
       "      <td>CHRYSLER 300</td>\n",
       "      <td>3.6</td>\n",
       "      <td>6</td>\n",
       "      <td>Auto-8</td>\n",
       "      <td>4WD</td>\n",
       "      <td>Ethanol/Gas</td>\n",
       "      <td>large car</td>\n",
       "      <td>3</td>\n",
       "      <td>13/18</td>\n",
       "      <td>20/27</td>\n",
       "      <td>16/21</td>\n",
       "      <td>4</td>\n",
       "      <td>No</td>\n",
       "    </tr>\n",
       "    <tr>\n",
       "      <th>244</th>\n",
       "      <td>DODGE Charger</td>\n",
       "      <td>3.6</td>\n",
       "      <td>6</td>\n",
       "      <td>Auto-8</td>\n",
       "      <td>2WD</td>\n",
       "      <td>Ethanol/Gas</td>\n",
       "      <td>large car</td>\n",
       "      <td>3</td>\n",
       "      <td>14/19</td>\n",
       "      <td>22/30</td>\n",
       "      <td>17/23</td>\n",
       "      <td>5</td>\n",
       "      <td>No</td>\n",
       "    </tr>\n",
       "    <tr>\n",
       "      <th>246</th>\n",
       "      <td>DODGE Charger</td>\n",
       "      <td>3.6</td>\n",
       "      <td>6</td>\n",
       "      <td>Auto-8</td>\n",
       "      <td>4WD</td>\n",
       "      <td>Ethanol/Gas</td>\n",
       "      <td>large car</td>\n",
       "      <td>3</td>\n",
       "      <td>13/18</td>\n",
       "      <td>20/27</td>\n",
       "      <td>16/21</td>\n",
       "      <td>4</td>\n",
       "      <td>No</td>\n",
       "    </tr>\n",
       "    <tr>\n",
       "      <th>300</th>\n",
       "      <td>FORD Fusion Energi Plug-in Hybrid</td>\n",
       "      <td>2.0</td>\n",
       "      <td>4</td>\n",
       "      <td>CVT</td>\n",
       "      <td>2WD</td>\n",
       "      <td>Gasoline/Electricity</td>\n",
       "      <td>midsize car</td>\n",
       "      <td>7</td>\n",
       "      <td>43/102</td>\n",
       "      <td>41/91</td>\n",
       "      <td>42/97</td>\n",
       "      <td>10</td>\n",
       "      <td>Elite</td>\n",
       "    </tr>\n",
       "    <tr>\n",
       "      <th>326</th>\n",
       "      <td>GMC Sierra 15</td>\n",
       "      <td>4.3</td>\n",
       "      <td>6</td>\n",
       "      <td>Auto-6</td>\n",
       "      <td>2WD</td>\n",
       "      <td>Ethanol/Gas</td>\n",
       "      <td>pickup</td>\n",
       "      <td>5</td>\n",
       "      <td>12/18</td>\n",
       "      <td>16/24</td>\n",
       "      <td>14/20</td>\n",
       "      <td>4</td>\n",
       "      <td>No</td>\n",
       "    </tr>\n",
       "    <tr>\n",
       "      <th>327</th>\n",
       "      <td>GMC Sierra 15</td>\n",
       "      <td>4.3</td>\n",
       "      <td>6</td>\n",
       "      <td>Auto-6</td>\n",
       "      <td>4WD</td>\n",
       "      <td>Ethanol/Gas</td>\n",
       "      <td>pickup</td>\n",
       "      <td>5</td>\n",
       "      <td>12/17</td>\n",
       "      <td>15/22</td>\n",
       "      <td>13/19</td>\n",
       "      <td>3</td>\n",
       "      <td>No</td>\n",
       "    </tr>\n",
       "    <tr>\n",
       "      <th>328</th>\n",
       "      <td>GMC Sierra 15</td>\n",
       "      <td>5.3</td>\n",
       "      <td>8</td>\n",
       "      <td>Auto-6</td>\n",
       "      <td>2WD</td>\n",
       "      <td>Ethanol/Gas</td>\n",
       "      <td>pickup</td>\n",
       "      <td>3</td>\n",
       "      <td>12/16</td>\n",
       "      <td>17/23</td>\n",
       "      <td>14/19</td>\n",
       "      <td>3</td>\n",
       "      <td>No</td>\n",
       "    </tr>\n",
       "    <tr>\n",
       "      <th>345</th>\n",
       "      <td>GMC Yukon 1500</td>\n",
       "      <td>5.3</td>\n",
       "      <td>8</td>\n",
       "      <td>Auto-6</td>\n",
       "      <td>2WD</td>\n",
       "      <td>Ethanol/Gas</td>\n",
       "      <td>standard SUV</td>\n",
       "      <td>3</td>\n",
       "      <td>12/16</td>\n",
       "      <td>17/23</td>\n",
       "      <td>14/19</td>\n",
       "      <td>3</td>\n",
       "      <td>No</td>\n",
       "    </tr>\n",
       "    <tr>\n",
       "      <th>347</th>\n",
       "      <td>GMC Yukon 1500</td>\n",
       "      <td>5.3</td>\n",
       "      <td>8</td>\n",
       "      <td>Auto-6</td>\n",
       "      <td>4WD</td>\n",
       "      <td>Ethanol/Gas</td>\n",
       "      <td>standard SUV</td>\n",
       "      <td>3</td>\n",
       "      <td>11/16</td>\n",
       "      <td>16/22</td>\n",
       "      <td>13/18</td>\n",
       "      <td>3</td>\n",
       "      <td>No</td>\n",
       "    </tr>\n",
       "    <tr>\n",
       "      <th>351</th>\n",
       "      <td>GMC Yukon 1500 XL</td>\n",
       "      <td>5.3</td>\n",
       "      <td>8</td>\n",
       "      <td>Auto-6</td>\n",
       "      <td>2WD</td>\n",
       "      <td>Ethanol/Gas</td>\n",
       "      <td>standard SUV</td>\n",
       "      <td>3</td>\n",
       "      <td>12/16</td>\n",
       "      <td>17/23</td>\n",
       "      <td>14/19</td>\n",
       "      <td>3</td>\n",
       "      <td>No</td>\n",
       "    </tr>\n",
       "    <tr>\n",
       "      <th>354</th>\n",
       "      <td>GMC Yukon XL 1500</td>\n",
       "      <td>5.3</td>\n",
       "      <td>8</td>\n",
       "      <td>Auto-6</td>\n",
       "      <td>4WD</td>\n",
       "      <td>Ethanol/Gas</td>\n",
       "      <td>standard SUV</td>\n",
       "      <td>3</td>\n",
       "      <td>11/16</td>\n",
       "      <td>15/22</td>\n",
       "      <td>12/18</td>\n",
       "      <td>3</td>\n",
       "      <td>No</td>\n",
       "    </tr>\n",
       "    <tr>\n",
       "      <th>442</th>\n",
       "      <td>JEEP Cherokee</td>\n",
       "      <td>2.4</td>\n",
       "      <td>4</td>\n",
       "      <td>Auto-9</td>\n",
       "      <td>2WD</td>\n",
       "      <td>Ethanol/Gas</td>\n",
       "      <td>small SUV</td>\n",
       "      <td>3</td>\n",
       "      <td>15/21</td>\n",
       "      <td>22/30</td>\n",
       "      <td>18/25</td>\n",
       "      <td>5</td>\n",
       "      <td>No</td>\n",
       "    </tr>\n",
       "    <tr>\n",
       "      <th>444</th>\n",
       "      <td>JEEP Cherokee</td>\n",
       "      <td>2.4</td>\n",
       "      <td>4</td>\n",
       "      <td>Auto-9</td>\n",
       "      <td>4WD</td>\n",
       "      <td>Ethanol/Gas</td>\n",
       "      <td>small SUV</td>\n",
       "      <td>3</td>\n",
       "      <td>14/21</td>\n",
       "      <td>21/28</td>\n",
       "      <td>17/23</td>\n",
       "      <td>5</td>\n",
       "      <td>No</td>\n",
       "    </tr>\n",
       "    <tr>\n",
       "      <th>462</th>\n",
       "      <td>KARMA Revero</td>\n",
       "      <td>2.0</td>\n",
       "      <td>4</td>\n",
       "      <td>Auto-1</td>\n",
       "      <td>2WD</td>\n",
       "      <td>Gasoline/Electricity</td>\n",
       "      <td>small car</td>\n",
       "      <td>1</td>\n",
       "      <td>20/59</td>\n",
       "      <td>21/61</td>\n",
       "      <td>20/60</td>\n",
       "      <td>10</td>\n",
       "      <td>No</td>\n",
       "    </tr>\n",
       "    <tr>\n",
       "      <th>571</th>\n",
       "      <td>MERCEDES-BENZ CLA250 4Matic</td>\n",
       "      <td>2.0</td>\n",
       "      <td>4</td>\n",
       "      <td>AutoMan-7</td>\n",
       "      <td>4WD</td>\n",
       "      <td>Ethanol/Gas</td>\n",
       "      <td>small car</td>\n",
       "      <td>5</td>\n",
       "      <td>17/24</td>\n",
       "      <td>24/32</td>\n",
       "      <td>20/27</td>\n",
       "      <td>6</td>\n",
       "      <td>No</td>\n",
       "    </tr>\n",
       "    <tr>\n",
       "      <th>578</th>\n",
       "      <td>MERCEDES-BENZ GLA250 4Matic</td>\n",
       "      <td>2.0</td>\n",
       "      <td>4</td>\n",
       "      <td>AutoMan-7</td>\n",
       "      <td>4WD</td>\n",
       "      <td>Ethanol/Gas</td>\n",
       "      <td>small SUV</td>\n",
       "      <td>5</td>\n",
       "      <td>17/23</td>\n",
       "      <td>23/31</td>\n",
       "      <td>19/26</td>\n",
       "      <td>5</td>\n",
       "      <td>No</td>\n",
       "    </tr>\n",
       "    <tr>\n",
       "      <th>584</th>\n",
       "      <td>MERCEDES-BENZ GLE350 4Matic</td>\n",
       "      <td>3.5</td>\n",
       "      <td>6</td>\n",
       "      <td>Auto-7</td>\n",
       "      <td>4WD</td>\n",
       "      <td>Ethanol/Gas</td>\n",
       "      <td>standard SUV</td>\n",
       "      <td>3</td>\n",
       "      <td>13/18</td>\n",
       "      <td>17/22</td>\n",
       "      <td>14/19</td>\n",
       "      <td>3</td>\n",
       "      <td>No</td>\n",
       "    </tr>\n",
       "    <tr>\n",
       "      <th>616</th>\n",
       "      <td>MINI Cooper SE Countryman All4</td>\n",
       "      <td>1.5</td>\n",
       "      <td>3</td>\n",
       "      <td>SemiAuto-6</td>\n",
       "      <td>4WD</td>\n",
       "      <td>Gasoline/Electricity</td>\n",
       "      <td>midsize car</td>\n",
       "      <td>3</td>\n",
       "      <td>28/63</td>\n",
       "      <td>27/66</td>\n",
       "      <td>27/65</td>\n",
       "      <td>9</td>\n",
       "      <td>Yes</td>\n",
       "    </tr>\n",
       "    <tr>\n",
       "      <th>742</th>\n",
       "      <td>TOYOTA Sequoia FFV</td>\n",
       "      <td>5.7</td>\n",
       "      <td>8</td>\n",
       "      <td>SemiAuto-6</td>\n",
       "      <td>4WD</td>\n",
       "      <td>Ethanol/Gas</td>\n",
       "      <td>standard SUV</td>\n",
       "      <td>5</td>\n",
       "      <td>9/13</td>\n",
       "      <td>13/17</td>\n",
       "      <td>10/14</td>\n",
       "      <td>1</td>\n",
       "      <td>No</td>\n",
       "    </tr>\n",
       "    <tr>\n",
       "      <th>747</th>\n",
       "      <td>TOYOTA Tundra FFV</td>\n",
       "      <td>5.7</td>\n",
       "      <td>8</td>\n",
       "      <td>SemiAuto-6</td>\n",
       "      <td>4WD</td>\n",
       "      <td>Ethanol/Gas</td>\n",
       "      <td>pickup</td>\n",
       "      <td>5</td>\n",
       "      <td>9/13</td>\n",
       "      <td>12/17</td>\n",
       "      <td>10/15</td>\n",
       "      <td>2</td>\n",
       "      <td>No</td>\n",
       "    </tr>\n",
       "    <tr>\n",
       "      <th>777</th>\n",
       "      <td>VOLVO S90</td>\n",
       "      <td>2.0</td>\n",
       "      <td>4</td>\n",
       "      <td>SemiAuto-8</td>\n",
       "      <td>4WD</td>\n",
       "      <td>Gasoline/Electricity</td>\n",
       "      <td>midsize car</td>\n",
       "      <td>7</td>\n",
       "      <td>26/70</td>\n",
       "      <td>33/72</td>\n",
       "      <td>29/71</td>\n",
       "      <td>10</td>\n",
       "      <td>Elite</td>\n",
       "    </tr>\n",
       "    <tr>\n",
       "      <th>789</th>\n",
       "      <td>VOLVO XC 60</td>\n",
       "      <td>2.0</td>\n",
       "      <td>4</td>\n",
       "      <td>SemiAuto-8</td>\n",
       "      <td>4WD</td>\n",
       "      <td>Gasoline/Electricity</td>\n",
       "      <td>small SUV</td>\n",
       "      <td>7</td>\n",
       "      <td>26/60</td>\n",
       "      <td>28/58</td>\n",
       "      <td>26/59</td>\n",
       "      <td>10</td>\n",
       "      <td>Elite</td>\n",
       "    </tr>\n",
       "    <tr>\n",
       "      <th>793</th>\n",
       "      <td>VOLVO XC 90</td>\n",
       "      <td>2.0</td>\n",
       "      <td>4</td>\n",
       "      <td>SemiAuto-8</td>\n",
       "      <td>4WD</td>\n",
       "      <td>Gasoline/Electricity</td>\n",
       "      <td>standard SUV</td>\n",
       "      <td>7</td>\n",
       "      <td>26/63</td>\n",
       "      <td>30/61</td>\n",
       "      <td>27/62</td>\n",
       "      <td>10</td>\n",
       "      <td>Elite</td>\n",
       "    </tr>\n",
       "  </tbody>\n",
       "</table>\n",
       "</div>"
      ],
      "text/plain": [
       "                                 model  displ  cyl       trans drive  \\\n",
       "52                            BMW 330e    2.0    4  SemiAuto-8   2WD   \n",
       "78                            BMW 530e    2.0    4  SemiAuto-8   2WD   \n",
       "79                            BMW 530e    2.0    4  SemiAuto-8   4WD   \n",
       "92                            BMW 740e    2.0    4  SemiAuto-8   4WD   \n",
       "189                   CHEVROLET Impala    3.6    6  SemiAuto-6   2WD   \n",
       "195             CHEVROLET Silverado 15    4.3    6      Auto-6   2WD   \n",
       "196             CHEVROLET Silverado 15    4.3    6      Auto-6   4WD   \n",
       "197             CHEVROLET Silverado 15    5.3    8      Auto-6   2WD   \n",
       "212            CHEVROLET Suburban 1500    5.3    8      Auto-6   2WD   \n",
       "214            CHEVROLET Suburban 1500    5.3    8      Auto-6   4WD   \n",
       "216               CHEVROLET Tahoe 1500    5.3    8      Auto-6   2WD   \n",
       "218               CHEVROLET Tahoe 1500    5.3    8      Auto-6   4WD   \n",
       "225                     CHEVROLET Volt    1.5    4         CVT   2WD   \n",
       "226                     CHEVROLET Volt    1.5    4         CVT   2WD   \n",
       "227                       CHRYSLER 300    3.6    6      Auto-8   2WD   \n",
       "229                       CHRYSLER 300    3.6    6      Auto-8   4WD   \n",
       "244                      DODGE Charger    3.6    6      Auto-8   2WD   \n",
       "246                      DODGE Charger    3.6    6      Auto-8   4WD   \n",
       "300  FORD Fusion Energi Plug-in Hybrid    2.0    4         CVT   2WD   \n",
       "326                      GMC Sierra 15    4.3    6      Auto-6   2WD   \n",
       "327                      GMC Sierra 15    4.3    6      Auto-6   4WD   \n",
       "328                      GMC Sierra 15    5.3    8      Auto-6   2WD   \n",
       "345                     GMC Yukon 1500    5.3    8      Auto-6   2WD   \n",
       "347                     GMC Yukon 1500    5.3    8      Auto-6   4WD   \n",
       "351                  GMC Yukon 1500 XL    5.3    8      Auto-6   2WD   \n",
       "354                  GMC Yukon XL 1500    5.3    8      Auto-6   4WD   \n",
       "442                      JEEP Cherokee    2.4    4      Auto-9   2WD   \n",
       "444                      JEEP Cherokee    2.4    4      Auto-9   4WD   \n",
       "462                       KARMA Revero    2.0    4      Auto-1   2WD   \n",
       "571        MERCEDES-BENZ CLA250 4Matic    2.0    4   AutoMan-7   4WD   \n",
       "578        MERCEDES-BENZ GLA250 4Matic    2.0    4   AutoMan-7   4WD   \n",
       "584        MERCEDES-BENZ GLE350 4Matic    3.5    6      Auto-7   4WD   \n",
       "616     MINI Cooper SE Countryman All4    1.5    3  SemiAuto-6   4WD   \n",
       "742                 TOYOTA Sequoia FFV    5.7    8  SemiAuto-6   4WD   \n",
       "747                  TOYOTA Tundra FFV    5.7    8  SemiAuto-6   4WD   \n",
       "777                          VOLVO S90    2.0    4  SemiAuto-8   4WD   \n",
       "789                        VOLVO XC 60    2.0    4  SemiAuto-8   4WD   \n",
       "793                        VOLVO XC 90    2.0    4  SemiAuto-8   4WD   \n",
       "\n",
       "                     fuel     veh_class  air_pollution_score city_mpg hwy_mpg  \\\n",
       "52   Gasoline/Electricity     small car                    3    28/66   34/78   \n",
       "78   Gasoline/Electricity     small car                    7    27/70   31/75   \n",
       "79   Gasoline/Electricity     small car                    7    27/66   31/68   \n",
       "92   Gasoline/Electricity     large car                    3    25/62   29/68   \n",
       "189           Ethanol/Gas     large car                    5    14/18   20/28   \n",
       "195           Ethanol/Gas        pickup                    5    12/18   16/24   \n",
       "196           Ethanol/Gas        pickup                    5    12/17   15/22   \n",
       "197           Ethanol/Gas        pickup                    3    12/16   17/23   \n",
       "212           Ethanol/Gas  standard SUV                    3    12/16   17/23   \n",
       "214           Ethanol/Gas  standard SUV                    3    11/16   15/22   \n",
       "216           Ethanol/Gas  standard SUV                    3    12/16   17/23   \n",
       "218           Ethanol/Gas  standard SUV                    3    11/16   16/22   \n",
       "225  Gasoline/Electricity     small car                    3   43/113   42/99   \n",
       "226  Gasoline/Electricity     small car                    7   43/113   42/99   \n",
       "227           Ethanol/Gas     large car                    3    14/19   22/30   \n",
       "229           Ethanol/Gas     large car                    3    13/18   20/27   \n",
       "244           Ethanol/Gas     large car                    3    14/19   22/30   \n",
       "246           Ethanol/Gas     large car                    3    13/18   20/27   \n",
       "300  Gasoline/Electricity   midsize car                    7   43/102   41/91   \n",
       "326           Ethanol/Gas        pickup                    5    12/18   16/24   \n",
       "327           Ethanol/Gas        pickup                    5    12/17   15/22   \n",
       "328           Ethanol/Gas        pickup                    3    12/16   17/23   \n",
       "345           Ethanol/Gas  standard SUV                    3    12/16   17/23   \n",
       "347           Ethanol/Gas  standard SUV                    3    11/16   16/22   \n",
       "351           Ethanol/Gas  standard SUV                    3    12/16   17/23   \n",
       "354           Ethanol/Gas  standard SUV                    3    11/16   15/22   \n",
       "442           Ethanol/Gas     small SUV                    3    15/21   22/30   \n",
       "444           Ethanol/Gas     small SUV                    3    14/21   21/28   \n",
       "462  Gasoline/Electricity     small car                    1    20/59   21/61   \n",
       "571           Ethanol/Gas     small car                    5    17/24   24/32   \n",
       "578           Ethanol/Gas     small SUV                    5    17/23   23/31   \n",
       "584           Ethanol/Gas  standard SUV                    3    13/18   17/22   \n",
       "616  Gasoline/Electricity   midsize car                    3    28/63   27/66   \n",
       "742           Ethanol/Gas  standard SUV                    5     9/13   13/17   \n",
       "747           Ethanol/Gas        pickup                    5     9/13   12/17   \n",
       "777  Gasoline/Electricity   midsize car                    7    26/70   33/72   \n",
       "789  Gasoline/Electricity     small SUV                    7    26/60   28/58   \n",
       "793  Gasoline/Electricity  standard SUV                    7    26/63   30/61   \n",
       "\n",
       "    cmb_mpg  greenhouse_gas_score smartway  \n",
       "52    30/71                    10      Yes  \n",
       "78    29/72                    10    Elite  \n",
       "79    28/67                    10    Elite  \n",
       "92    27/64                     9      Yes  \n",
       "189   16/22                     4       No  \n",
       "195   14/20                     4       No  \n",
       "196   13/19                     3       No  \n",
       "197   14/19                     3       No  \n",
       "212   14/19                     3       No  \n",
       "214   12/18                     3       No  \n",
       "216   14/19                     3       No  \n",
       "218   13/18                     3       No  \n",
       "225  42/106                    10      Yes  \n",
       "226  42/106                    10    Elite  \n",
       "227   17/23                     5       No  \n",
       "229   16/21                     4       No  \n",
       "244   17/23                     5       No  \n",
       "246   16/21                     4       No  \n",
       "300   42/97                    10    Elite  \n",
       "326   14/20                     4       No  \n",
       "327   13/19                     3       No  \n",
       "328   14/19                     3       No  \n",
       "345   14/19                     3       No  \n",
       "347   13/18                     3       No  \n",
       "351   14/19                     3       No  \n",
       "354   12/18                     3       No  \n",
       "442   18/25                     5       No  \n",
       "444   17/23                     5       No  \n",
       "462   20/60                    10       No  \n",
       "571   20/27                     6       No  \n",
       "578   19/26                     5       No  \n",
       "584   14/19                     3       No  \n",
       "616   27/65                     9      Yes  \n",
       "742   10/14                     1       No  \n",
       "747   10/15                     2       No  \n",
       "777   29/71                    10    Elite  \n",
       "789   26/59                    10    Elite  \n",
       "793   27/62                    10    Elite  "
      ]
     },
     "execution_count": 41,
     "metadata": {},
     "output_type": "execute_result"
    }
   ],
   "source": [
    "# hybrids in 2018\n",
    "hb_18 = df_18[df_18['fuel'].str.contains('/')]\n",
    "hb_18"
   ]
  },
  {
   "cell_type": "markdown",
   "metadata": {},
   "source": [
    "Take each hybrid row and split them into two new rows - one with values for the first fuel type (values before the \"/\"), and the other with values for the second fuel type (values after the \"/\"). Let's separate them with two dataframes!"
   ]
  },
  {
   "cell_type": "code",
   "execution_count": 42,
   "metadata": {},
   "outputs": [
    {
     "data": {
      "text/html": [
       "<div>\n",
       "<style scoped>\n",
       "    .dataframe tbody tr th:only-of-type {\n",
       "        vertical-align: middle;\n",
       "    }\n",
       "\n",
       "    .dataframe tbody tr th {\n",
       "        vertical-align: top;\n",
       "    }\n",
       "\n",
       "    .dataframe thead th {\n",
       "        text-align: right;\n",
       "    }\n",
       "</style>\n",
       "<table border=\"1\" class=\"dataframe\">\n",
       "  <thead>\n",
       "    <tr style=\"text-align: right;\">\n",
       "      <th></th>\n",
       "      <th>model</th>\n",
       "      <th>displ</th>\n",
       "      <th>cyl</th>\n",
       "      <th>trans</th>\n",
       "      <th>drive</th>\n",
       "      <th>fuel</th>\n",
       "      <th>veh_class</th>\n",
       "      <th>air_pollution_score</th>\n",
       "      <th>city_mpg</th>\n",
       "      <th>hwy_mpg</th>\n",
       "      <th>cmb_mpg</th>\n",
       "      <th>greenhouse_gas_score</th>\n",
       "      <th>smartway</th>\n",
       "    </tr>\n",
       "  </thead>\n",
       "  <tbody>\n",
       "    <tr>\n",
       "      <th>582</th>\n",
       "      <td>MERCEDES-BENZ C300</td>\n",
       "      <td>3.0</td>\n",
       "      <td>6</td>\n",
       "      <td>Auto-L7</td>\n",
       "      <td>2WD</td>\n",
       "      <td>ethanol/gas</td>\n",
       "      <td>small car</td>\n",
       "      <td>6/4</td>\n",
       "      <td>13/18</td>\n",
       "      <td>19/25</td>\n",
       "      <td>15/21</td>\n",
       "      <td>7/6</td>\n",
       "      <td>no</td>\n",
       "    </tr>\n",
       "  </tbody>\n",
       "</table>\n",
       "</div>"
      ],
      "text/plain": [
       "                  model  displ  cyl    trans drive         fuel  veh_class  \\\n",
       "582  MERCEDES-BENZ C300    3.0    6  Auto-L7   2WD  ethanol/gas  small car   \n",
       "\n",
       "    air_pollution_score city_mpg hwy_mpg cmb_mpg greenhouse_gas_score smartway  \n",
       "582                 6/4    13/18   19/25   15/21                  7/6       no  "
      ]
     },
     "execution_count": 42,
     "metadata": {},
     "output_type": "execute_result"
    }
   ],
   "source": [
    "# create two copies of the 2008 hybrids dataframe\n",
    "df1 = hb_08.copy()  # data on first fuel type of each hybrid vehicle\n",
    "df2 = hb_08.copy()  # data on second fuel type of each hybrid vehicle\n",
    "\n",
    "# Each one should look like this\n",
    "df2"
   ]
  },
  {
   "cell_type": "code",
   "execution_count": 43,
   "metadata": {},
   "outputs": [],
   "source": [
    "# columns to split by \"/\"\n",
    "split_columns = ['fuel', 'air_pollution_score', 'city_mpg', 'hwy_mpg', 'cmb_mpg', 'greenhouse_gas_score']\n",
    "\n",
    "# apply split function to each column of each dataframe copy\n",
    "for c in split_columns:\n",
    "    df1[c] = df1[c].apply(lambda x: x.split(\"/\")[0])\n",
    "    df2[c] = df2[c].apply(lambda x: x.split(\"/\")[1])"
   ]
  },
  {
   "cell_type": "code",
   "execution_count": 44,
   "metadata": {},
   "outputs": [
    {
     "data": {
      "text/html": [
       "<div>\n",
       "<style scoped>\n",
       "    .dataframe tbody tr th:only-of-type {\n",
       "        vertical-align: middle;\n",
       "    }\n",
       "\n",
       "    .dataframe tbody tr th {\n",
       "        vertical-align: top;\n",
       "    }\n",
       "\n",
       "    .dataframe thead th {\n",
       "        text-align: right;\n",
       "    }\n",
       "</style>\n",
       "<table border=\"1\" class=\"dataframe\">\n",
       "  <thead>\n",
       "    <tr style=\"text-align: right;\">\n",
       "      <th></th>\n",
       "      <th>model</th>\n",
       "      <th>displ</th>\n",
       "      <th>cyl</th>\n",
       "      <th>trans</th>\n",
       "      <th>drive</th>\n",
       "      <th>fuel</th>\n",
       "      <th>veh_class</th>\n",
       "      <th>air_pollution_score</th>\n",
       "      <th>city_mpg</th>\n",
       "      <th>hwy_mpg</th>\n",
       "      <th>cmb_mpg</th>\n",
       "      <th>greenhouse_gas_score</th>\n",
       "      <th>smartway</th>\n",
       "    </tr>\n",
       "  </thead>\n",
       "  <tbody>\n",
       "    <tr>\n",
       "      <th>582</th>\n",
       "      <td>MERCEDES-BENZ C300</td>\n",
       "      <td>3.0</td>\n",
       "      <td>6</td>\n",
       "      <td>Auto-L7</td>\n",
       "      <td>2WD</td>\n",
       "      <td>ethanol</td>\n",
       "      <td>small car</td>\n",
       "      <td>6</td>\n",
       "      <td>13</td>\n",
       "      <td>19</td>\n",
       "      <td>15</td>\n",
       "      <td>7</td>\n",
       "      <td>no</td>\n",
       "    </tr>\n",
       "  </tbody>\n",
       "</table>\n",
       "</div>"
      ],
      "text/plain": [
       "                  model  displ  cyl    trans drive     fuel  veh_class  \\\n",
       "582  MERCEDES-BENZ C300    3.0    6  Auto-L7   2WD  ethanol  small car   \n",
       "\n",
       "    air_pollution_score city_mpg hwy_mpg cmb_mpg greenhouse_gas_score smartway  \n",
       "582                   6       13      19      15                    7       no  "
      ]
     },
     "execution_count": 44,
     "metadata": {},
     "output_type": "execute_result"
    }
   ],
   "source": [
    "# this dataframe holds info for the FIRST fuel type of the hybrid\n",
    "# aka the values before the \"/\"s\n",
    "df1"
   ]
  },
  {
   "cell_type": "code",
   "execution_count": 45,
   "metadata": {},
   "outputs": [
    {
     "data": {
      "text/html": [
       "<div>\n",
       "<style scoped>\n",
       "    .dataframe tbody tr th:only-of-type {\n",
       "        vertical-align: middle;\n",
       "    }\n",
       "\n",
       "    .dataframe tbody tr th {\n",
       "        vertical-align: top;\n",
       "    }\n",
       "\n",
       "    .dataframe thead th {\n",
       "        text-align: right;\n",
       "    }\n",
       "</style>\n",
       "<table border=\"1\" class=\"dataframe\">\n",
       "  <thead>\n",
       "    <tr style=\"text-align: right;\">\n",
       "      <th></th>\n",
       "      <th>model</th>\n",
       "      <th>displ</th>\n",
       "      <th>cyl</th>\n",
       "      <th>trans</th>\n",
       "      <th>drive</th>\n",
       "      <th>fuel</th>\n",
       "      <th>veh_class</th>\n",
       "      <th>air_pollution_score</th>\n",
       "      <th>city_mpg</th>\n",
       "      <th>hwy_mpg</th>\n",
       "      <th>cmb_mpg</th>\n",
       "      <th>greenhouse_gas_score</th>\n",
       "      <th>smartway</th>\n",
       "    </tr>\n",
       "  </thead>\n",
       "  <tbody>\n",
       "    <tr>\n",
       "      <th>582</th>\n",
       "      <td>MERCEDES-BENZ C300</td>\n",
       "      <td>3.0</td>\n",
       "      <td>6</td>\n",
       "      <td>Auto-L7</td>\n",
       "      <td>2WD</td>\n",
       "      <td>gas</td>\n",
       "      <td>small car</td>\n",
       "      <td>4</td>\n",
       "      <td>18</td>\n",
       "      <td>25</td>\n",
       "      <td>21</td>\n",
       "      <td>6</td>\n",
       "      <td>no</td>\n",
       "    </tr>\n",
       "  </tbody>\n",
       "</table>\n",
       "</div>"
      ],
      "text/plain": [
       "                  model  displ  cyl    trans drive fuel  veh_class  \\\n",
       "582  MERCEDES-BENZ C300    3.0    6  Auto-L7   2WD  gas  small car   \n",
       "\n",
       "    air_pollution_score city_mpg hwy_mpg cmb_mpg greenhouse_gas_score smartway  \n",
       "582                   4       18      25      21                    6       no  "
      ]
     },
     "execution_count": 45,
     "metadata": {},
     "output_type": "execute_result"
    }
   ],
   "source": [
    "# this dataframe holds info for the SECOND fuel type of the hybrid\n",
    "# aka the values after the \"/\"s\n",
    "df2"
   ]
  },
  {
   "cell_type": "code",
   "execution_count": 46,
   "metadata": {},
   "outputs": [
    {
     "name": "stderr",
     "output_type": "stream",
     "text": [
      "C:\\Users\\satta\\AppData\\Local\\Temp\\ipykernel_16352\\553349515.py:2: FutureWarning: The frame.append method is deprecated and will be removed from pandas in a future version. Use pandas.concat instead.\n",
      "  new_rows = df1.append(df2)\n"
     ]
    },
    {
     "data": {
      "text/html": [
       "<div>\n",
       "<style scoped>\n",
       "    .dataframe tbody tr th:only-of-type {\n",
       "        vertical-align: middle;\n",
       "    }\n",
       "\n",
       "    .dataframe tbody tr th {\n",
       "        vertical-align: top;\n",
       "    }\n",
       "\n",
       "    .dataframe thead th {\n",
       "        text-align: right;\n",
       "    }\n",
       "</style>\n",
       "<table border=\"1\" class=\"dataframe\">\n",
       "  <thead>\n",
       "    <tr style=\"text-align: right;\">\n",
       "      <th></th>\n",
       "      <th>model</th>\n",
       "      <th>displ</th>\n",
       "      <th>cyl</th>\n",
       "      <th>trans</th>\n",
       "      <th>drive</th>\n",
       "      <th>fuel</th>\n",
       "      <th>veh_class</th>\n",
       "      <th>air_pollution_score</th>\n",
       "      <th>city_mpg</th>\n",
       "      <th>hwy_mpg</th>\n",
       "      <th>cmb_mpg</th>\n",
       "      <th>greenhouse_gas_score</th>\n",
       "      <th>smartway</th>\n",
       "    </tr>\n",
       "  </thead>\n",
       "  <tbody>\n",
       "    <tr>\n",
       "      <th>582</th>\n",
       "      <td>MERCEDES-BENZ C300</td>\n",
       "      <td>3.0</td>\n",
       "      <td>6</td>\n",
       "      <td>Auto-L7</td>\n",
       "      <td>2WD</td>\n",
       "      <td>ethanol</td>\n",
       "      <td>small car</td>\n",
       "      <td>6</td>\n",
       "      <td>13</td>\n",
       "      <td>19</td>\n",
       "      <td>15</td>\n",
       "      <td>7</td>\n",
       "      <td>no</td>\n",
       "    </tr>\n",
       "    <tr>\n",
       "      <th>582</th>\n",
       "      <td>MERCEDES-BENZ C300</td>\n",
       "      <td>3.0</td>\n",
       "      <td>6</td>\n",
       "      <td>Auto-L7</td>\n",
       "      <td>2WD</td>\n",
       "      <td>gas</td>\n",
       "      <td>small car</td>\n",
       "      <td>4</td>\n",
       "      <td>18</td>\n",
       "      <td>25</td>\n",
       "      <td>21</td>\n",
       "      <td>6</td>\n",
       "      <td>no</td>\n",
       "    </tr>\n",
       "  </tbody>\n",
       "</table>\n",
       "</div>"
      ],
      "text/plain": [
       "                  model  displ  cyl    trans drive     fuel  veh_class  \\\n",
       "582  MERCEDES-BENZ C300    3.0    6  Auto-L7   2WD  ethanol  small car   \n",
       "582  MERCEDES-BENZ C300    3.0    6  Auto-L7   2WD      gas  small car   \n",
       "\n",
       "    air_pollution_score city_mpg hwy_mpg cmb_mpg greenhouse_gas_score smartway  \n",
       "582                   6       13      19      15                    7       no  \n",
       "582                   4       18      25      21                    6       no  "
      ]
     },
     "execution_count": 46,
     "metadata": {},
     "output_type": "execute_result"
    }
   ],
   "source": [
    "# combine dataframes to add to the original dataframe\n",
    "new_rows = df1.append(df2)\n",
    "\n",
    "# now we have separate rows for each fuel type of each vehicle!\n",
    "new_rows"
   ]
  },
  {
   "cell_type": "code",
   "execution_count": 47,
   "metadata": {},
   "outputs": [
    {
     "name": "stderr",
     "output_type": "stream",
     "text": [
      "C:\\Users\\satta\\AppData\\Local\\Temp\\ipykernel_16352\\2829982403.py:5: FutureWarning: The frame.append method is deprecated and will be removed from pandas in a future version. Use pandas.concat instead.\n",
      "  df_08 = df_08.append(new_rows, ignore_index=True)\n"
     ]
    }
   ],
   "source": [
    "# drop the original hybrid rows\n",
    "df_08.drop(hb_08.index, inplace=True)\n",
    "\n",
    "# add in our newly separated rows\n",
    "df_08 = df_08.append(new_rows, ignore_index=True)"
   ]
  },
  {
   "cell_type": "code",
   "execution_count": 48,
   "metadata": {},
   "outputs": [
    {
     "data": {
      "text/html": [
       "<div>\n",
       "<style scoped>\n",
       "    .dataframe tbody tr th:only-of-type {\n",
       "        vertical-align: middle;\n",
       "    }\n",
       "\n",
       "    .dataframe tbody tr th {\n",
       "        vertical-align: top;\n",
       "    }\n",
       "\n",
       "    .dataframe thead th {\n",
       "        text-align: right;\n",
       "    }\n",
       "</style>\n",
       "<table border=\"1\" class=\"dataframe\">\n",
       "  <thead>\n",
       "    <tr style=\"text-align: right;\">\n",
       "      <th></th>\n",
       "      <th>model</th>\n",
       "      <th>displ</th>\n",
       "      <th>cyl</th>\n",
       "      <th>trans</th>\n",
       "      <th>drive</th>\n",
       "      <th>fuel</th>\n",
       "      <th>veh_class</th>\n",
       "      <th>air_pollution_score</th>\n",
       "      <th>city_mpg</th>\n",
       "      <th>hwy_mpg</th>\n",
       "      <th>cmb_mpg</th>\n",
       "      <th>greenhouse_gas_score</th>\n",
       "      <th>smartway</th>\n",
       "    </tr>\n",
       "  </thead>\n",
       "  <tbody>\n",
       "  </tbody>\n",
       "</table>\n",
       "</div>"
      ],
      "text/plain": [
       "Empty DataFrame\n",
       "Columns: [model, displ, cyl, trans, drive, fuel, veh_class, air_pollution_score, city_mpg, hwy_mpg, cmb_mpg, greenhouse_gas_score, smartway]\n",
       "Index: []"
      ]
     },
     "execution_count": 48,
     "metadata": {},
     "output_type": "execute_result"
    }
   ],
   "source": [
    "# check that all the original hybrid rows with \"/\"s are gone\n",
    "df_08[df_08['fuel'].str.contains('/')]"
   ]
  },
  {
   "cell_type": "code",
   "execution_count": 49,
   "metadata": {},
   "outputs": [
    {
     "data": {
      "text/plain": [
       "(987, 13)"
      ]
     },
     "execution_count": 49,
     "metadata": {},
     "output_type": "execute_result"
    }
   ],
   "source": [
    "df_08.shape"
   ]
  },
  {
   "cell_type": "markdown",
   "metadata": {},
   "source": [
    "Repeat the process for dataset 2018"
   ]
  },
  {
   "cell_type": "code",
   "execution_count": 50,
   "metadata": {},
   "outputs": [],
   "source": [
    "# create two copies of the 2018 hybrids dataframe, hb_18\n",
    "df1 = hb_18.copy()\n",
    "df2 = hb_18.copy()\n",
    "# df1"
   ]
  },
  {
   "cell_type": "code",
   "execution_count": 51,
   "metadata": {},
   "outputs": [],
   "source": [
    "# apply split function to each column of each dataframe copy\n",
    "\n",
    "# list of columns to split\n",
    "split_columns = ['fuel','city_mpg', 'hwy_mpg','cmb_mpg']\n",
    "\n",
    "# apply split function to each column of each dataframe copy\n",
    "for c in split_columns:\n",
    "    df1[c] = df1[c].apply(lambda x: x.split(\"/\")[0])\n",
    "    df2[c] = df2[c].apply(lambda x: x.split(\"/\")[1])\n",
    "# df1  no more /\n",
    "# df2\n"
   ]
  },
  {
   "cell_type": "code",
   "execution_count": 52,
   "metadata": {},
   "outputs": [
    {
     "name": "stderr",
     "output_type": "stream",
     "text": [
      "C:\\Users\\satta\\AppData\\Local\\Temp\\ipykernel_16352\\2436019406.py:2: FutureWarning: The frame.append method is deprecated and will be removed from pandas in a future version. Use pandas.concat instead.\n",
      "  new_rows = df1.append(df2)\n",
      "C:\\Users\\satta\\AppData\\Local\\Temp\\ipykernel_16352\\2436019406.py:9: FutureWarning: The frame.append method is deprecated and will be removed from pandas in a future version. Use pandas.concat instead.\n",
      "  df_18 = df_18.append(new_rows,ignore_index=True)\n"
     ]
    }
   ],
   "source": [
    "# append the two dataframes\n",
    "new_rows = df1.append(df2)\n",
    "\n",
    "# drop each hybrid row from the original 2018 dataframe\n",
    "# do this by using Pandas drop function with hb_18's index\n",
    "df_18.drop(hb_18.index, inplace=True) # drop original one \n",
    "\n",
    "# append new_rows to df_18  \n",
    "df_18 = df_18.append(new_rows,ignore_index=True)"
   ]
  },
  {
   "cell_type": "code",
   "execution_count": 53,
   "metadata": {},
   "outputs": [
    {
     "data": {
      "text/html": [
       "<div>\n",
       "<style scoped>\n",
       "    .dataframe tbody tr th:only-of-type {\n",
       "        vertical-align: middle;\n",
       "    }\n",
       "\n",
       "    .dataframe tbody tr th {\n",
       "        vertical-align: top;\n",
       "    }\n",
       "\n",
       "    .dataframe thead th {\n",
       "        text-align: right;\n",
       "    }\n",
       "</style>\n",
       "<table border=\"1\" class=\"dataframe\">\n",
       "  <thead>\n",
       "    <tr style=\"text-align: right;\">\n",
       "      <th></th>\n",
       "      <th>model</th>\n",
       "      <th>displ</th>\n",
       "      <th>cyl</th>\n",
       "      <th>trans</th>\n",
       "      <th>drive</th>\n",
       "      <th>fuel</th>\n",
       "      <th>veh_class</th>\n",
       "      <th>air_pollution_score</th>\n",
       "      <th>city_mpg</th>\n",
       "      <th>hwy_mpg</th>\n",
       "      <th>cmb_mpg</th>\n",
       "      <th>greenhouse_gas_score</th>\n",
       "      <th>smartway</th>\n",
       "    </tr>\n",
       "  </thead>\n",
       "  <tbody>\n",
       "  </tbody>\n",
       "</table>\n",
       "</div>"
      ],
      "text/plain": [
       "Empty DataFrame\n",
       "Columns: [model, displ, cyl, trans, drive, fuel, veh_class, air_pollution_score, city_mpg, hwy_mpg, cmb_mpg, greenhouse_gas_score, smartway]\n",
       "Index: []"
      ]
     },
     "execution_count": 53,
     "metadata": {},
     "output_type": "execute_result"
    }
   ],
   "source": [
    "# check that they're gone\n",
    "df_18[df_18['fuel'].str.contains('/')]"
   ]
  },
  {
   "cell_type": "code",
   "execution_count": 54,
   "metadata": {},
   "outputs": [
    {
     "data": {
      "text/plain": [
       "(832, 13)"
      ]
     },
     "execution_count": 54,
     "metadata": {},
     "output_type": "execute_result"
    }
   ],
   "source": [
    "df_18.shape"
   ]
  },
  {
   "cell_type": "markdown",
   "metadata": {},
   "source": [
    " Now we are ready to change string to float "
   ]
  },
  {
   "cell_type": "code",
   "execution_count": 55,
   "metadata": {},
   "outputs": [
    {
     "name": "stdout",
     "output_type": "stream",
     "text": [
      "float64\n"
     ]
    }
   ],
   "source": [
    "import pandas as pd\n",
    "\n",
    "# Convert string to float for 2008 air pollution score column\n",
    "df_08['air_pollution_score'] = pd.to_numeric(df_08['air_pollution_score'], errors='coerce')\n",
    "\n",
    "# Display the data type to confirm the conversion\n",
    "print(df_08['air_pollution_score'].dtypes)\n"
   ]
  },
  {
   "cell_type": "code",
   "execution_count": 56,
   "metadata": {},
   "outputs": [
    {
     "name": "stdout",
     "output_type": "stream",
     "text": [
      "float64\n"
     ]
    }
   ],
   "source": [
    "# Convert int to float for 2018 air pollution score column\n",
    "df_18['air_pollution_score'] = df_18['air_pollution_score'].astype(float)\n",
    "\n",
    "# Display the data type to confirm the conversion\n",
    "print(df_18['air_pollution_score'].dtypes)\n"
   ]
  },
  {
   "cell_type": "code",
   "execution_count": 57,
   "metadata": {},
   "outputs": [],
   "source": [
    "df_08.to_csv(\"C:/Users/satta/Downloads/Data Analytics with Fuel Economy Data/Fuel_Economy_Data/data_08_v4.csv\", index=False)\n",
    "df_18.to_csv(\"C:/Users/satta/Downloads/Data Analytics with Fuel Economy Data/Fuel_Economy_Data/data_18_v4.csv\", index=False)\n"
   ]
  },
  {
   "cell_type": "markdown",
   "metadata": {},
   "source": [
    "### 6.3 Fix city_mpg, hwy_mpg, cmb_mpg datatypes\n",
    "2008 and 2018: convert string to float"
   ]
  },
  {
   "cell_type": "code",
   "execution_count": 58,
   "metadata": {},
   "outputs": [
    {
     "data": {
      "text/plain": [
       "model                    object\n",
       "displ                   float64\n",
       "cyl                       int64\n",
       "trans                    object\n",
       "drive                    object\n",
       "fuel                     object\n",
       "veh_class                object\n",
       "air_pollution_score     float64\n",
       "city_mpg                  int64\n",
       "hwy_mpg                   int64\n",
       "cmb_mpg                   int64\n",
       "greenhouse_gas_score      int64\n",
       "smartway                 object\n",
       "dtype: object"
      ]
     },
     "execution_count": 58,
     "metadata": {},
     "output_type": "execute_result"
    }
   ],
   "source": [
    "df_08 = pd.read_csv(\"C:/Users/satta/Downloads/Data Analytics with Fuel Economy Data/Fuel_Economy_Data/data_08_v4.csv\")\n",
    "df_18 = pd.read_csv(\"C:/Users/satta/Downloads/Data Analytics with Fuel Economy Data/Fuel_Economy_Data/data_18_v4.csv\")\n",
    "df_08.dtypes"
   ]
  },
  {
   "cell_type": "code",
   "execution_count": 59,
   "metadata": {},
   "outputs": [],
   "source": [
    "# convert mpg columns to floats\n",
    "mpg_columns = ['city_mpg', 'hwy_mpg', 'cmb_mpg']\n",
    "for c in mpg_columns:\n",
    "    df_18[c] = df_18[c].astype(float)\n",
    "    df_08[c] = df_08[c].astype(float)"
   ]
  },
  {
   "cell_type": "markdown",
   "metadata": {},
   "source": [
    "### 6.4 Fix greenhouse_gas_score datatype\n",
    "2008: convert from float to int"
   ]
  },
  {
   "cell_type": "code",
   "execution_count": 60,
   "metadata": {},
   "outputs": [],
   "source": [
    "# convert from float to int64\n",
    "import numpy as np \n",
    "df_08['greenhouse_gas_score'] = df_08['greenhouse_gas_score'].astype(np.int64)\n"
   ]
  },
  {
   "cell_type": "code",
   "execution_count": 61,
   "metadata": {},
   "outputs": [
    {
     "data": {
      "text/plain": [
       "model                    object\n",
       "displ                   float64\n",
       "cyl                       int64\n",
       "trans                    object\n",
       "drive                    object\n",
       "fuel                     object\n",
       "veh_class                object\n",
       "air_pollution_score     float64\n",
       "city_mpg                float64\n",
       "hwy_mpg                 float64\n",
       "cmb_mpg                 float64\n",
       "greenhouse_gas_score      int64\n",
       "smartway                 object\n",
       "dtype: object"
      ]
     },
     "execution_count": 61,
     "metadata": {},
     "output_type": "execute_result"
    }
   ],
   "source": [
    "# All the dataypes are now fixed! Take one last check to confirm all the changes.\n",
    "df_08.dtypes"
   ]
  },
  {
   "cell_type": "code",
   "execution_count": 62,
   "metadata": {},
   "outputs": [
    {
     "data": {
      "text/plain": [
       "model                    object\n",
       "displ                   float64\n",
       "cyl                       int64\n",
       "trans                    object\n",
       "drive                    object\n",
       "fuel                     object\n",
       "veh_class                object\n",
       "air_pollution_score     float64\n",
       "city_mpg                float64\n",
       "hwy_mpg                 float64\n",
       "cmb_mpg                 float64\n",
       "greenhouse_gas_score      int64\n",
       "smartway                 object\n",
       "dtype: object"
      ]
     },
     "execution_count": 62,
     "metadata": {},
     "output_type": "execute_result"
    }
   ],
   "source": [
    "df_18.dtypes"
   ]
  },
  {
   "cell_type": "code",
   "execution_count": 63,
   "metadata": {},
   "outputs": [
    {
     "data": {
      "text/plain": [
       "model                   True\n",
       "displ                   True\n",
       "cyl                     True\n",
       "trans                   True\n",
       "drive                   True\n",
       "fuel                    True\n",
       "veh_class               True\n",
       "air_pollution_score     True\n",
       "city_mpg                True\n",
       "hwy_mpg                 True\n",
       "cmb_mpg                 True\n",
       "greenhouse_gas_score    True\n",
       "smartway                True\n",
       "dtype: bool"
      ]
     },
     "execution_count": 63,
     "metadata": {},
     "output_type": "execute_result"
    }
   ],
   "source": [
    "df_08.dtypes == df_18.dtypes   "
   ]
  },
  {
   "cell_type": "code",
   "execution_count": 64,
   "metadata": {},
   "outputs": [],
   "source": [
    "# Save your final CLEAN datasets as new files!\n",
    "df_08.to_csv('clean_08.csv', index=False)\n",
    "df_18.to_csv('clean_18.csv', index=False)"
   ]
  },
  {
   "cell_type": "markdown",
   "metadata": {},
   "source": [
    "# Exploring with Visuals\n",
    "Use clean_08.csv and clean_18.csv"
   ]
  },
  {
   "cell_type": "code",
   "execution_count": 65,
   "metadata": {},
   "outputs": [
    {
     "name": "stderr",
     "output_type": "stream",
     "text": [
      "UsageError: Line magic function `%` not found.\n"
     ]
    }
   ],
   "source": [
    "# load datasets\n",
    "import matplotlib.pyplot as plt \n",
    "% matplotlib inline\n",
    "import pandas as pd\n",
    "df_08 = pd.read_csv(\"C:/Users/satta/Downloads/Data Analytics with Fuel Economy Data/Fuel_Economy_Data/clean_08.csv\")\n",
    "df_18 = pd.read_csv(\"C:/Users/satta/Downloads/Data Analytics with Fuel Economy Data/Fuel_Economy_Data/clean_18.csv\")\n"
   ]
  },
  {
   "cell_type": "code",
   "execution_count": null,
   "metadata": {},
   "outputs": [],
   "source": [
    "df_08.hist(figsize=(10,10))\n"
   ]
  },
  {
   "cell_type": "code",
   "execution_count": null,
   "metadata": {},
   "outputs": [],
   "source": [
    "df_18.hist(figsize=(10,10))\n"
   ]
  },
  {
   "cell_type": "markdown",
   "metadata": {},
   "source": [
    "* Throught the plot, we can see from 2008 to 2018, combined_mpg becomes more screwed to the right .\n",
    "* Throught the plot, we can see from 2008 to 2018, the distributions of greenhouse gas score turns to be more screwed to left ."
   ]
  },
  {
   "cell_type": "code",
   "execution_count": null,
   "metadata": {},
   "outputs": [],
   "source": [
    "import pandas as pd\n",
    "\n",
    "# Load the cleaned datasets\n",
    "df_08 = pd.read_csv(\"C:/Users/satta/Downloads/Data Analytics with Fuel Economy Data/Fuel_Economy_Data/clean_08.csv\")\n",
    "df_18 = pd.read_csv(\"C:/Users/satta/Downloads/Data Analytics with Fuel Economy Data/Fuel_Economy_Data/clean_18.csv\")\n",
    "\n",
    "# Display the first few rows to confirm the column names\n",
    "print(df_08.head())\n",
    "print(df_18.head())\n"
   ]
  },
  {
   "cell_type": "code",
   "execution_count": null,
   "metadata": {},
   "outputs": [],
   "source": [
    "# Check for missing values in the relevant columns\n",
    "print(\"Missing values in 2008 data:\")\n",
    "print(df_08[['cmb_mpg', 'displ']].isnull().sum())\n",
    "\n",
    "print(\"Missing values in 2018 data:\")\n",
    "print(df_18[['cmb_mpg', 'displ']].isnull().sum())\n",
    "\n",
    "# Drop rows with missing values in 'cmb_mpg' and 'displ'\n",
    "df_08_cleaned = df_08.dropna(subset=['cmb_mpg', 'displ'])\n",
    "df_18_cleaned = df_18.dropna(subset=['cmb_mpg', 'displ'])\n",
    "\n",
    "# Verify the lengths are the same\n",
    "print(\"Length of 'cmb_mpg' and 'displ' in 2008 after cleaning:\")\n",
    "print(len(df_08_cleaned['cmb_mpg']), len(df_08_cleaned['displ']))\n",
    "\n",
    "print(\"Length of 'cmb_mpg' and 'displ' in 2018 after cleaning:\")\n",
    "print(len(df_18_cleaned['cmb_mpg']), len(df_18_cleaned['displ']))\n"
   ]
  },
  {
   "cell_type": "code",
   "execution_count": null,
   "metadata": {},
   "outputs": [],
   "source": [
    "import matplotlib.pyplot as plt\n",
    "\n",
    "# Create scatter plot for 2008 data\n",
    "plt.scatter(data=df_08_cleaned, x='cmb_mpg', y='displ')\n",
    "plt.title('The Relationship Between Engine Size and Combined MPG in 2008')\n",
    "plt.xlabel('Combined MPG')\n",
    "plt.ylabel('Engine Displacement (Liters)')\n",
    "plt.show()\n",
    "\n",
    "# Create scatter plot for 2018 data\n",
    "plt.scatter(data=df_18_cleaned, x='cmb_mpg', y='displ')\n",
    "plt.title('The Relationship Between Engine Size and Combined MPG in 2018')\n",
    "plt.xlabel('Combined MPG')\n",
    "plt.ylabel('Engine Displacement (Liters)')\n",
    "plt.show()\n"
   ]
  },
  {
   "cell_type": "markdown",
   "metadata": {},
   "source": [
    "# Conclusions & Visuals:\n",
    "The following are the 5 questions we raised at the beginning. Let's find the answers. \n",
    "* Q1: Are more unique models using alternative fuels in 2018 compared to 2008? By how much?\n",
    "* Q2: How much have vehicle classes improved in fuel economy (increased in mpg)?\n",
    "* Q3: What are the characteristics of SmartWay vehicles? Have they changed over time? (mpg, greenhouse gas)\n",
    "* Q4: What features are associated with better fuel economy (mpg)?\n",
    "* Q5:For all of the models that were produced in 2008 that are still being produced in 2018, how much has the mpg improved and which vehicle improved the most?"
   ]
  },
  {
   "cell_type": "code",
   "execution_count": null,
   "metadata": {},
   "outputs": [],
   "source": [
    "# load datasets\n",
    "import matplotlib.pyplot as plt \n",
    "%matplotlib inline\n",
    "import pandas as pd\n",
    "df_08 = pd.read_csv(\"C:/Users/satta/Downloads/Data Analytics with Fuel Economy Data/Fuel_Economy_Data/clean_08.csv\")\n",
    "df_18 = pd.read_csv(\"C:/Users/satta/Downloads/Data Analytics with Fuel Economy Data/Fuel_Economy_Data/clean_18.csv\")\n",
    "df_08.head()"
   ]
  },
  {
   "cell_type": "code",
   "execution_count": null,
   "metadata": {},
   "outputs": [],
   "source": [
    "df_18.head()"
   ]
  },
  {
   "cell_type": "markdown",
   "metadata": {},
   "source": [
    "### Q1: Are more unique models using alternative sources of fuel? By how much?"
   ]
  },
  {
   "cell_type": "code",
   "execution_count": null,
   "metadata": {},
   "outputs": [],
   "source": [
    "# q1: what are the alternative sources?  CNG and Ethanol and Electricity are all altenative sources\n",
    "df_08['fuel'].value_counts()  # CNG and Ethanol"
   ]
  },
  {
   "cell_type": "code",
   "execution_count": null,
   "metadata": {},
   "outputs": [],
   "source": [
    "df_18['fuel'].value_counts()  # Electricity and Ethanol"
   ]
  },
  {
   "cell_type": "markdown",
   "metadata": {},
   "source": [
    "Looks like the alternative sources of fuel available in 2008 are CNG and ethanol, and those in 2018 ethanol and electricity"
   ]
  },
  {
   "cell_type": "code",
   "execution_count": null,
   "metadata": {},
   "outputs": [],
   "source": [
    "# unique models used alternative sources of fuel in 2008 and 2018\n",
    "al_08 = df_08.query('fuel in [\"CNG\",\"ethanol\"]').model.nunique()\n",
    "al_18 = df_18.query('fuel in [\"Electricity\",\"Ethanol\"]').model.nunique() \n",
    "# al_18"
   ]
  },
  {
   "cell_type": "code",
   "execution_count": null,
   "metadata": {},
   "outputs": [],
   "source": [
    "plt.bar(['2008','2018'],[al_08 , al_18] )\n",
    "plt.title('Unique Models Using Alternative Sources Distribution ')\n",
    "plt.xlabel('Year')\n",
    "plt.ylabel('Numbers of Unique Models');"
   ]
  },
  {
   "cell_type": "code",
   "execution_count": null,
   "metadata": {},
   "outputs": [],
   "source": [
    "al_08 , al_18"
   ]
  },
  {
   "cell_type": "markdown",
   "metadata": {},
   "source": [
    "More unique models using alternative sources of fuel in 2018 compared to 2008. But that's look at the proportions"
   ]
  },
  {
   "cell_type": "code",
   "execution_count": null,
   "metadata": {},
   "outputs": [],
   "source": [
    "# total unique models each year\n",
    "total_08 = df_08.model.nunique()\n",
    "total_18 = df_18.model.nunique()\n",
    "total_08, total_18"
   ]
  },
  {
   "cell_type": "code",
   "execution_count": null,
   "metadata": {},
   "outputs": [],
   "source": [
    "prop_08 = al_08/total_08\n",
    "prop_18 = al_18/total_18\n",
    "prop_08, prop_18"
   ]
  },
  {
   "cell_type": "code",
   "execution_count": null,
   "metadata": {},
   "outputs": [],
   "source": [
    "plt.bar([\"2008\", \"2018\"], [prop_08, prop_18])\n",
    "plt.title(\"Proportion of Unique Models Using Alternative Fuels\")\n",
    "plt.xlabel(\"Year\")\n",
    "plt.ylabel(\"Proportion of Unique Models\");"
   ]
  },
  {
   "cell_type": "markdown",
   "metadata": {},
   "source": [
    "More unique models using alternative sources of fuel in 2018 compared to 2008 , increased by 6.75%"
   ]
  },
  {
   "cell_type": "markdown",
   "metadata": {},
   "source": [
    "### Q2: How much have vehicle classes improved in fuel economy?¶"
   ]
  },
  {
   "cell_type": "markdown",
   "metadata": {},
   "source": [
    "Let's look at the average fuel economy for each vehicle class for both years."
   ]
  },
  {
   "cell_type": "code",
   "execution_count": null,
   "metadata": {},
   "outputs": [],
   "source": [
    "veh_08 = df_08.groupby('veh_class').cmb_mpg.mean()\n",
    "veh_08"
   ]
  },
  {
   "cell_type": "code",
   "execution_count": null,
   "metadata": {},
   "outputs": [],
   "source": [
    "veh_18 = df_18.groupby('veh_class').cmb_mpg.mean()\n",
    "veh_18"
   ]
  },
  {
   "cell_type": "code",
   "execution_count": null,
   "metadata": {},
   "outputs": [],
   "source": [
    "# how much they've increased by for each vehicle class\n",
    "inc = veh_18 - veh_08\n",
    "inc"
   ]
  },
  {
   "cell_type": "code",
   "execution_count": null,
   "metadata": {},
   "outputs": [],
   "source": [
    "# only plot the classes that exist in both years\n",
    "inc.dropna(inplace=True)\n",
    "plt.subplots(figsize=(8, 5))\n",
    "plt.bar(inc.index, inc)\n",
    "plt.title('Improvements in Fuel Economy from 2008 to 2018 by Vehicle Class')\n",
    "plt.xlabel('Vehicle Class')\n",
    "plt.ylabel('Increase in Average Combined MPG');"
   ]
  },
  {
   "cell_type": "markdown",
   "metadata": {},
   "source": [
    "### Q3: What are the characteristics of SmartWay vehicles? Have they changed over time?\n",
    "We can analyze this by filtering each dataframe by SmartWay classification and exploring these datasets."
   ]
  },
  {
   "cell_type": "code",
   "execution_count": null,
   "metadata": {},
   "outputs": [],
   "source": [
    "# smartway labels for 2008\n",
    "df_08.smartway.unique()"
   ]
  },
  {
   "cell_type": "code",
   "execution_count": null,
   "metadata": {},
   "outputs": [],
   "source": [
    "# get all smartway vehicles in 2008\n",
    "smart_08 = df_08.query('smartway == \"yes\"')"
   ]
  },
  {
   "cell_type": "code",
   "execution_count": null,
   "metadata": {},
   "outputs": [],
   "source": [
    "# explore smartway vehicles in 2008\n",
    "smart_08.describe()"
   ]
  },
  {
   "cell_type": "code",
   "execution_count": null,
   "metadata": {},
   "outputs": [],
   "source": [
    "# smartway labels for 2018\n",
    "df_18.smartway.unique()"
   ]
  },
  {
   "cell_type": "code",
   "execution_count": null,
   "metadata": {},
   "outputs": [],
   "source": [
    "# get all smartway vehicles in 2018\n",
    "smart_18 = df_18.query('smartway in [\"Yes\", \"Elite\"]')"
   ]
  },
  {
   "cell_type": "code",
   "execution_count": null,
   "metadata": {},
   "outputs": [],
   "source": [
    "smart_18.describe()"
   ]
  },
  {
   "cell_type": "markdown",
   "metadata": {},
   "source": [
    "### Q4: What features are associated with better fuel economy?¶"
   ]
  },
  {
   "cell_type": "markdown",
   "metadata": {},
   "source": [
    "Explore trends between cmb_mpg and the other features in this dataset, select all vehicles that have the top 50% fuel economy ratings to see the characteristics"
   ]
  },
  {
   "cell_type": "code",
   "execution_count": null,
   "metadata": {},
   "outputs": [],
   "source": [
    "top_08 = df_08.query('cmb_mpg > cmb_mpg.mean()')\n",
    "top_08.describe()"
   ]
  },
  {
   "cell_type": "code",
   "execution_count": null,
   "metadata": {},
   "outputs": [],
   "source": [
    "top_18 = df_18.query('cmb_mpg > cmb_mpg.mean()')\n",
    "top_18.describe()"
   ]
  },
  {
   "cell_type": "markdown",
   "metadata": {},
   "source": [
    "### Q5: For all of the models that were produced in 2008 that are still being produced now, how much has the mpg improved and which vehicle improved the most?\n",
    "\n",
    "Here are the steps for answering this question.\n",
    "\n",
    "1. Create a new dataframe, model_mpg, that contain the mean combined mpg values in 2008 and 2018 for each unique model\n",
    "To do this, group by model and find the mean cmb_mpg_2008 and mean cmb_mpg for each.\n",
    "\n",
    "2. Create a new column, mpg_change, with the change in mpg\n",
    "Subtract the mean mpg in 2008 from that in 2018 to get the change in mpg\n",
    "\n",
    "3. Find the vehicle that improved the most\n",
    "Find the max mpg change, and then use query or indexing to see what model it is!"
   ]
  },
  {
   "cell_type": "code",
   "execution_count": null,
   "metadata": {},
   "outputs": [],
   "source": [
    "# load datasets\n",
    "import pandas as pd\n",
    "df_08 = pd.read_csv(\"clean_08.csv\")\n",
    "df_18 = pd.read_csv(\"clean_18.csv\")"
   ]
  },
  {
   "cell_type": "code",
   "execution_count": null,
   "metadata": {},
   "outputs": [],
   "source": [
    "# Merge datasets\n",
    "# rename 2008 columns\n",
    "df_08.rename(columns=lambda x: x[:10]+\"_2008\", inplace=True)\n",
    "# merge datasets\n",
    "df_combined = pd.merge(df_08,df_18,left_on='model_2008', right_on='model', how='inner')"
   ]
  },
  {
   "cell_type": "code",
   "execution_count": null,
   "metadata": {},
   "outputs": [],
   "source": [
    "# view to check merge\n",
    "df_combined.head()"
   ]
  },
  {
   "cell_type": "markdown",
   "metadata": {},
   "source": [
    "1. Create a new dataframe, model_mpg, that contain the mean combined mpg values in 2008 and 2018 for each unique model\n"
   ]
  },
  {
   "cell_type": "code",
   "execution_count": null,
   "metadata": {},
   "outputs": [],
   "source": [
    "# To do this, group by model and find the mean cmb_mpg_2008 and mean cmb_mpg for each.\n",
    "model_mpg = df_combined.groupby('model').mean()[['cmb_mpg_2008', 'cmb_mpg']]\n",
    "# get two columns' mean at the same time \n",
    "model_mpg.head()"
   ]
  },
  {
   "cell_type": "markdown",
   "metadata": {},
   "source": [
    "2. Create a new column, mpg_change, with the change in mpg . \n",
    "Subtract the mean mpg in 2008 from that in 2018 to get the change in mpg"
   ]
  },
  {
   "cell_type": "code",
   "execution_count": null,
   "metadata": {},
   "outputs": [],
   "source": [
    "model_mpg['mpg_change'] = model_mpg['cmb_mpg'] - model_mpg['cmb_mpg_2008']\n",
    "model_mpg.head()"
   ]
  },
  {
   "cell_type": "markdown",
   "metadata": {},
   "source": [
    "We can see the mpg change through mpg_change column above. Every vehicle varies . "
   ]
  },
  {
   "cell_type": "markdown",
   "metadata": {},
   "source": [
    "3. Find the vehicle that improved the most: \n",
    "Find the max mpg change, and then use query or indexing to see what model it is!"
   ]
  },
  {
   "cell_type": "code",
   "execution_count": null,
   "metadata": {},
   "outputs": [],
   "source": [
    "max_change = model_mpg['mpg_change'].max()\n",
    "max_change"
   ]
  },
  {
   "cell_type": "code",
   "execution_count": null,
   "metadata": {},
   "outputs": [],
   "source": [
    "model_mpg[model_mpg['mpg_change'] == max_change]"
   ]
  },
  {
   "cell_type": "markdown",
   "metadata": {},
   "source": [
    "Model VOLVO XC 90 improves the most "
   ]
  },
  {
   "cell_type": "markdown",
   "metadata": {},
   "source": [
    "### Conclusion 5 : We can see the mpg change through mpg_change column above. Every vehicle varies. Among them, Model VOLVO XC 90 improves the most. "
   ]
  },
  {
   "cell_type": "code",
   "execution_count": null,
   "metadata": {},
   "outputs": [],
   "source": []
  }
 ],
 "metadata": {
  "kernelspec": {
   "display_name": "Python 3 (ipykernel)",
   "language": "python",
   "name": "python3"
  },
  "language_info": {
   "codemirror_mode": {
    "name": "ipython",
    "version": 3
   },
   "file_extension": ".py",
   "mimetype": "text/x-python",
   "name": "python",
   "nbconvert_exporter": "python",
   "pygments_lexer": "ipython3",
   "version": "3.11.2"
  }
 },
 "nbformat": 4,
 "nbformat_minor": 2
}
